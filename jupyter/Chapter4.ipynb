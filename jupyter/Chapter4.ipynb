{
 "cells": [
  {
   "cell_type": "markdown",
   "metadata": {
    "ExecuteTime": {
     "end_time": "2020-06-08T23:19:41.071396Z",
     "start_time": "2020-06-08T23:19:41.066905Z"
    }
   },
   "source": [
    "## ディープラーニング向けライブラリの導入"
   ]
  },
  {
   "cell_type": "markdown",
   "metadata": {
    "ExecuteTime": {
     "end_time": "2020-06-08T23:19:41.100274Z",
     "start_time": "2020-06-08T23:19:41.074221Z"
    }
   },
   "source": [
    "### Keras"
   ]
  },
  {
   "cell_type": "code",
   "execution_count": 3,
   "metadata": {
    "ExecuteTime": {
     "end_time": "2020-06-12T13:24:49.110994Z",
     "start_time": "2020-06-12T13:24:49.105456Z"
    }
   },
   "outputs": [],
   "source": [
    "import numpy as np\n",
    "import tensorflow as tf\n",
    "\n",
    "np.random.seed(123)\n",
    "tf.random.set_seed(123)"
   ]
  },
  {
   "cell_type": "markdown",
   "metadata": {},
   "source": [
    "#### データの準備"
   ]
  },
  {
   "cell_type": "code",
   "execution_count": 4,
   "metadata": {
    "ExecuteTime": {
     "end_time": "2020-06-12T13:24:50.693180Z",
     "start_time": "2020-06-12T13:24:50.181804Z"
    }
   },
   "outputs": [],
   "source": [
    "from sklearn import datasets\n",
    "from sklearn.model_selection import train_test_split\n",
    "\n",
    "N = 300\n",
    "x, t = datasets.make_moons(N, noise=0.3)\n",
    "t = t.reshape(N, 1)\n",
    "\n",
    "x_train, x_test, t_train, t_test = \\\n",
    "    train_test_split(x, t, test_size=0.2)"
   ]
  },
  {
   "cell_type": "markdown",
   "metadata": {
    "ExecuteTime": {
     "end_time": "2020-06-08T23:19:41.313857Z",
     "start_time": "2020-06-08T23:17:11.807Z"
    }
   },
   "source": [
    "#### モデル構築"
   ]
  },
  {
   "cell_type": "code",
   "execution_count": 5,
   "metadata": {
    "ExecuteTime": {
     "end_time": "2020-06-12T13:24:55.088877Z",
     "start_time": "2020-06-12T13:24:55.005810Z"
    }
   },
   "outputs": [],
   "source": [
    "from tensorflow.keras.models import Sequential\n",
    "from tensorflow.keras.layers import Dense\n",
    "\n",
    "model = Sequential()\n",
    "# 次元3の隠れ層\n",
    "model.add(Dense(3, activation='sigmoid', input_dim=2))\n",
    "# 次元１の出力層\n",
    "model.add(Dense(1, activation='sigmoid'))"
   ]
  },
  {
   "cell_type": "markdown",
   "metadata": {
    "ExecuteTime": {
     "end_time": "2020-06-08T23:22:21.271040Z",
     "start_time": "2020-06-08T23:22:21.266120Z"
    }
   },
   "source": [
    "#### モデル学習"
   ]
  },
  {
   "cell_type": "code",
   "execution_count": 5,
   "metadata": {
    "ExecuteTime": {
     "end_time": "2020-06-11T12:45:45.993834Z",
     "start_time": "2020-06-11T12:45:42.832388Z"
    }
   },
   "outputs": [
    {
     "name": "stdout",
     "output_type": "stream",
     "text": [
      "Epoch 1/100\n",
      "24/24 [==============================] - 0s 1ms/step - loss: 0.7579 - accuracy: 0.2792\n",
      "Epoch 2/100\n",
      "24/24 [==============================] - 0s 1ms/step - loss: 0.7149 - accuracy: 0.3958\n",
      "Epoch 3/100\n",
      "24/24 [==============================] - 0s 1ms/step - loss: 0.6852 - accuracy: 0.5167\n",
      "Epoch 4/100\n",
      "24/24 [==============================] - 0s 1ms/step - loss: 0.6596 - accuracy: 0.6833\n",
      "Epoch 5/100\n",
      "24/24 [==============================] - 0s 1ms/step - loss: 0.6353 - accuracy: 0.8000\n",
      "Epoch 6/100\n",
      "24/24 [==============================] - 0s 955us/step - loss: 0.6144 - accuracy: 0.8125\n",
      "Epoch 7/100\n",
      "24/24 [==============================] - 0s 960us/step - loss: 0.5940 - accuracy: 0.8125\n",
      "Epoch 8/100\n",
      "24/24 [==============================] - 0s 1ms/step - loss: 0.5769 - accuracy: 0.8292\n",
      "Epoch 9/100\n",
      "24/24 [==============================] - 0s 939us/step - loss: 0.5593 - accuracy: 0.8125\n",
      "Epoch 10/100\n",
      "24/24 [==============================] - 0s 1ms/step - loss: 0.5422 - accuracy: 0.8125\n",
      "Epoch 11/100\n",
      "24/24 [==============================] - 0s 951us/step - loss: 0.5275 - accuracy: 0.8042\n",
      "Epoch 12/100\n",
      "24/24 [==============================] - 0s 896us/step - loss: 0.5144 - accuracy: 0.7958\n",
      "Epoch 13/100\n",
      "24/24 [==============================] - 0s 992us/step - loss: 0.5018 - accuracy: 0.7958\n",
      "Epoch 14/100\n",
      "24/24 [==============================] - 0s 976us/step - loss: 0.4904 - accuracy: 0.7958\n",
      "Epoch 15/100\n",
      "24/24 [==============================] - 0s 1ms/step - loss: 0.4809 - accuracy: 0.7875\n",
      "Epoch 16/100\n",
      "24/24 [==============================] - 0s 1ms/step - loss: 0.4715 - accuracy: 0.7958\n",
      "Epoch 17/100\n",
      "24/24 [==============================] - 0s 1ms/step - loss: 0.4632 - accuracy: 0.7917\n",
      "Epoch 18/100\n",
      "24/24 [==============================] - 0s 986us/step - loss: 0.4561 - accuracy: 0.7958\n",
      "Epoch 19/100\n",
      "24/24 [==============================] - 0s 1ms/step - loss: 0.4495 - accuracy: 0.7958\n",
      "Epoch 20/100\n",
      "24/24 [==============================] - 0s 1ms/step - loss: 0.4445 - accuracy: 0.7917\n",
      "Epoch 21/100\n",
      "24/24 [==============================] - 0s 1ms/step - loss: 0.4391 - accuracy: 0.8000\n",
      "Epoch 22/100\n",
      "24/24 [==============================] - 0s 942us/step - loss: 0.4344 - accuracy: 0.8000\n",
      "Epoch 23/100\n",
      "24/24 [==============================] - 0s 1ms/step - loss: 0.4306 - accuracy: 0.8000\n",
      "Epoch 24/100\n",
      "24/24 [==============================] - 0s 958us/step - loss: 0.4265 - accuracy: 0.8125\n",
      "Epoch 25/100\n",
      "24/24 [==============================] - 0s 1ms/step - loss: 0.4240 - accuracy: 0.8000\n",
      "Epoch 26/100\n",
      "24/24 [==============================] - 0s 1ms/step - loss: 0.4210 - accuracy: 0.8000\n",
      "Epoch 27/100\n",
      "24/24 [==============================] - 0s 1ms/step - loss: 0.4179 - accuracy: 0.8083\n",
      "Epoch 28/100\n",
      "24/24 [==============================] - 0s 1ms/step - loss: 0.4164 - accuracy: 0.8125\n",
      "Epoch 29/100\n",
      "24/24 [==============================] - 0s 1ms/step - loss: 0.4136 - accuracy: 0.8083\n",
      "Epoch 30/100\n",
      "24/24 [==============================] - 0s 1ms/step - loss: 0.4119 - accuracy: 0.8125\n",
      "Epoch 31/100\n",
      "24/24 [==============================] - 0s 999us/step - loss: 0.4105 - accuracy: 0.8083\n",
      "Epoch 32/100\n",
      "24/24 [==============================] - 0s 1ms/step - loss: 0.4087 - accuracy: 0.8125\n",
      "Epoch 33/100\n",
      "24/24 [==============================] - 0s 1ms/step - loss: 0.4070 - accuracy: 0.8167\n",
      "Epoch 34/100\n",
      "24/24 [==============================] - 0s 1ms/step - loss: 0.4064 - accuracy: 0.8042\n",
      "Epoch 35/100\n",
      "24/24 [==============================] - 0s 1ms/step - loss: 0.4046 - accuracy: 0.8167\n",
      "Epoch 36/100\n",
      "24/24 [==============================] - 0s 1ms/step - loss: 0.4037 - accuracy: 0.8208\n",
      "Epoch 37/100\n",
      "24/24 [==============================] - 0s 1ms/step - loss: 0.4035 - accuracy: 0.8125\n",
      "Epoch 38/100\n",
      "24/24 [==============================] - 0s 989us/step - loss: 0.4017 - accuracy: 0.8208\n",
      "Epoch 39/100\n",
      "24/24 [==============================] - 0s 832us/step - loss: 0.4018 - accuracy: 0.8125\n",
      "Epoch 40/100\n",
      "24/24 [==============================] - 0s 1ms/step - loss: 0.4011 - accuracy: 0.8125\n",
      "Epoch 41/100\n",
      "24/24 [==============================] - 0s 953us/step - loss: 0.4004 - accuracy: 0.8167\n",
      "Epoch 42/100\n",
      "24/24 [==============================] - 0s 1ms/step - loss: 0.3987 - accuracy: 0.8208\n",
      "Epoch 43/100\n",
      "24/24 [==============================] - 0s 1ms/step - loss: 0.3991 - accuracy: 0.8125\n",
      "Epoch 44/100\n",
      "24/24 [==============================] - 0s 1ms/step - loss: 0.3987 - accuracy: 0.8042\n",
      "Epoch 45/100\n",
      "24/24 [==============================] - 0s 946us/step - loss: 0.3975 - accuracy: 0.8083\n",
      "Epoch 46/100\n",
      "24/24 [==============================] - 0s 1ms/step - loss: 0.3976 - accuracy: 0.8083\n",
      "Epoch 47/100\n",
      "24/24 [==============================] - 0s 1ms/step - loss: 0.3970 - accuracy: 0.8125\n",
      "Epoch 48/100\n",
      "24/24 [==============================] - 0s 1ms/step - loss: 0.3969 - accuracy: 0.8167\n",
      "Epoch 49/100\n",
      "24/24 [==============================] - 0s 905us/step - loss: 0.3962 - accuracy: 0.8208\n",
      "Epoch 50/100\n",
      "24/24 [==============================] - 0s 1ms/step - loss: 0.3966 - accuracy: 0.8167\n",
      "Epoch 51/100\n",
      "24/24 [==============================] - 0s 1ms/step - loss: 0.3958 - accuracy: 0.8083\n",
      "Epoch 52/100\n",
      "24/24 [==============================] - 0s 923us/step - loss: 0.3960 - accuracy: 0.8125\n",
      "Epoch 53/100\n",
      "24/24 [==============================] - 0s 1ms/step - loss: 0.3942 - accuracy: 0.8167\n",
      "Epoch 54/100\n",
      "24/24 [==============================] - 0s 939us/step - loss: 0.3949 - accuracy: 0.8083\n",
      "Epoch 55/100\n",
      "24/24 [==============================] - 0s 993us/step - loss: 0.3943 - accuracy: 0.8125\n",
      "Epoch 56/100\n",
      "24/24 [==============================] - 0s 923us/step - loss: 0.3945 - accuracy: 0.8125\n",
      "Epoch 57/100\n",
      "24/24 [==============================] - 0s 936us/step - loss: 0.3944 - accuracy: 0.8125\n",
      "Epoch 58/100\n",
      "24/24 [==============================] - 0s 890us/step - loss: 0.3939 - accuracy: 0.8167\n",
      "Epoch 59/100\n",
      "24/24 [==============================] - 0s 934us/step - loss: 0.3939 - accuracy: 0.8125\n",
      "Epoch 60/100\n",
      "24/24 [==============================] - 0s 878us/step - loss: 0.3936 - accuracy: 0.8125\n",
      "Epoch 61/100\n",
      "24/24 [==============================] - 0s 989us/step - loss: 0.3931 - accuracy: 0.8167\n",
      "Epoch 62/100\n",
      "24/24 [==============================] - 0s 941us/step - loss: 0.3939 - accuracy: 0.8125\n",
      "Epoch 63/100\n",
      "24/24 [==============================] - 0s 985us/step - loss: 0.3924 - accuracy: 0.8167\n",
      "Epoch 64/100\n",
      "24/24 [==============================] - 0s 902us/step - loss: 0.3928 - accuracy: 0.8083\n",
      "Epoch 65/100\n",
      "24/24 [==============================] - 0s 998us/step - loss: 0.3920 - accuracy: 0.8167\n",
      "Epoch 66/100\n",
      "24/24 [==============================] - 0s 905us/step - loss: 0.3921 - accuracy: 0.8167\n",
      "Epoch 67/100\n",
      "24/24 [==============================] - 0s 971us/step - loss: 0.3933 - accuracy: 0.8083\n",
      "Epoch 68/100\n",
      "24/24 [==============================] - 0s 954us/step - loss: 0.3918 - accuracy: 0.8125\n",
      "Epoch 69/100\n",
      "24/24 [==============================] - 0s 915us/step - loss: 0.3917 - accuracy: 0.8167\n",
      "Epoch 70/100\n",
      "24/24 [==============================] - 0s 1ms/step - loss: 0.3913 - accuracy: 0.8125\n",
      "Epoch 71/100\n",
      "24/24 [==============================] - 0s 919us/step - loss: 0.3914 - accuracy: 0.8167\n",
      "Epoch 72/100\n",
      "24/24 [==============================] - 0s 968us/step - loss: 0.3926 - accuracy: 0.8125\n",
      "Epoch 73/100\n",
      "24/24 [==============================] - 0s 891us/step - loss: 0.3910 - accuracy: 0.8083\n",
      "Epoch 74/100\n",
      "24/24 [==============================] - 0s 979us/step - loss: 0.3917 - accuracy: 0.8083\n",
      "Epoch 75/100\n",
      "24/24 [==============================] - 0s 907us/step - loss: 0.3912 - accuracy: 0.8083\n",
      "Epoch 76/100\n",
      "24/24 [==============================] - 0s 959us/step - loss: 0.3906 - accuracy: 0.8083\n",
      "Epoch 77/100\n",
      "24/24 [==============================] - 0s 887us/step - loss: 0.3919 - accuracy: 0.8125\n",
      "Epoch 78/100\n",
      "24/24 [==============================] - 0s 1ms/step - loss: 0.3911 - accuracy: 0.8083\n",
      "Epoch 79/100\n",
      "24/24 [==============================] - 0s 945us/step - loss: 0.3899 - accuracy: 0.8167\n",
      "Epoch 80/100\n",
      "24/24 [==============================] - 0s 984us/step - loss: 0.3901 - accuracy: 0.8125\n",
      "Epoch 81/100\n",
      "24/24 [==============================] - 0s 982us/step - loss: 0.3911 - accuracy: 0.8083\n",
      "Epoch 82/100\n",
      "24/24 [==============================] - 0s 868us/step - loss: 0.3900 - accuracy: 0.8083\n",
      "Epoch 83/100\n",
      "24/24 [==============================] - 0s 960us/step - loss: 0.3901 - accuracy: 0.8083\n",
      "Epoch 84/100\n",
      "24/24 [==============================] - 0s 809us/step - loss: 0.3903 - accuracy: 0.8083\n",
      "Epoch 85/100\n",
      "24/24 [==============================] - 0s 891us/step - loss: 0.3904 - accuracy: 0.8083\n",
      "Epoch 86/100\n",
      "24/24 [==============================] - 0s 862us/step - loss: 0.3909 - accuracy: 0.8042\n",
      "Epoch 87/100\n",
      "24/24 [==============================] - 0s 962us/step - loss: 0.3904 - accuracy: 0.8167\n",
      "Epoch 88/100\n",
      "24/24 [==============================] - 0s 976us/step - loss: 0.3913 - accuracy: 0.8167\n",
      "Epoch 89/100\n",
      "24/24 [==============================] - 0s 952us/step - loss: 0.3896 - accuracy: 0.8167\n",
      "Epoch 90/100\n",
      "24/24 [==============================] - 0s 848us/step - loss: 0.3897 - accuracy: 0.8083\n",
      "Epoch 91/100\n",
      "24/24 [==============================] - 0s 896us/step - loss: 0.3902 - accuracy: 0.8125\n",
      "Epoch 92/100\n",
      "24/24 [==============================] - 0s 929us/step - loss: 0.3896 - accuracy: 0.8125\n",
      "Epoch 93/100\n",
      "24/24 [==============================] - 0s 920us/step - loss: 0.3886 - accuracy: 0.8042\n",
      "Epoch 94/100\n",
      "24/24 [==============================] - 0s 895us/step - loss: 0.3888 - accuracy: 0.8083\n",
      "Epoch 95/100\n",
      "24/24 [==============================] - 0s 858us/step - loss: 0.3911 - accuracy: 0.8083\n",
      "Epoch 96/100\n",
      "24/24 [==============================] - 0s 910us/step - loss: 0.3898 - accuracy: 0.8125\n",
      "Epoch 97/100\n",
      "24/24 [==============================] - 0s 858us/step - loss: 0.3889 - accuracy: 0.8042\n",
      "Epoch 98/100\n",
      "24/24 [==============================] - 0s 932us/step - loss: 0.3894 - accuracy: 0.8167\n",
      "Epoch 99/100\n",
      "24/24 [==============================] - 0s 869us/step - loss: 0.3883 - accuracy: 0.8125\n",
      "Epoch 100/100\n",
      "24/24 [==============================] - 0s 922us/step - loss: 0.3890 - accuracy: 0.8042\n"
     ]
    },
    {
     "data": {
      "text/plain": [
       "<tensorflow.python.keras.callbacks.History at 0x7f769c0a4110>"
      ]
     },
     "execution_count": 5,
     "metadata": {},
     "output_type": "execute_result"
    }
   ],
   "source": [
    "from tensorflow.keras import optimizers\n",
    "\n",
    "# 学習方法は確率的勾配法(SGD)\n",
    "optimizer = optimizers.SGD(learning_rate=0.1)\n",
    "# 誤差関数は交差エントロピー、評価指標は正解率\n",
    "model.compile(optimizer=optimizer, loss='binary_crossentropy', metrics=['accuracy'])\n",
    "# verbose\n",
    "# 0：ログ出力なし、1：プログレスバー表示、２：エポックごとに１行出力\n",
    "model.fit(x_train, t_train, epochs=100, batch_size=10, verbose=1)"
   ]
  },
  {
   "cell_type": "markdown",
   "metadata": {},
   "source": [
    "#### モデル評価"
   ]
  },
  {
   "cell_type": "code",
   "execution_count": 6,
   "metadata": {
    "ExecuteTime": {
     "end_time": "2020-06-11T12:45:46.166726Z",
     "start_time": "2020-06-11T12:45:45.995592Z"
    }
   },
   "outputs": [
    {
     "name": "stdout",
     "output_type": "stream",
     "text": [
      "test_loss: 0.310, test_acc: 0.883\n"
     ]
    }
   ],
   "source": [
    "loss, acc = model.evaluate(x_test, t_test, verbose=0)\n",
    "print('test_loss: {:.3f}, test_acc: {:.3f}'.format(loss,acc))"
   ]
  },
  {
   "cell_type": "markdown",
   "metadata": {},
   "source": [
    "### Tensorflow"
   ]
  },
  {
   "cell_type": "markdown",
   "metadata": {
    "ExecuteTime": {
     "end_time": "2020-06-08T23:38:20.275215Z",
     "start_time": "2020-06-08T23:38:20.269864Z"
    }
   },
   "source": [
    "#### モデル構築\n",
    "\n",
    "1. KerasのModelを継承させる\n",
    "2. 順伝播のメソッド名はcallにする"
   ]
  },
  {
   "cell_type": "code",
   "execution_count": 7,
   "metadata": {
    "ExecuteTime": {
     "end_time": "2020-06-11T12:45:46.176982Z",
     "start_time": "2020-06-11T12:45:46.168557Z"
    }
   },
   "outputs": [],
   "source": [
    "from tensorflow.keras.models import Model\n",
    "\n",
    "class MLP(Model):\n",
    "    def __init__(self, hidden_dim, output_dim):\n",
    "        super().__init__()\n",
    "        self.l1 = Dense(hidden_dim, activation='sigmoid')\n",
    "        self.l2 = Dense(output_dim, activation='sigmoid') \n",
    "        \n",
    "    def call(self, x):\n",
    "        h = self.l1(x)\n",
    "        y = self.l2(h)\n",
    "        return y"
   ]
  },
  {
   "cell_type": "code",
   "execution_count": 8,
   "metadata": {
    "ExecuteTime": {
     "end_time": "2020-06-11T12:45:46.186324Z",
     "start_time": "2020-06-11T12:45:46.179014Z"
    }
   },
   "outputs": [],
   "source": [
    "model = MLP(3,1)"
   ]
  },
  {
   "cell_type": "markdown",
   "metadata": {},
   "source": [
    "#### モデル学習\n",
    "\n",
    "- tensorflowでグラフが構築されるのは、データに値が与えられたとき。\n",
    "- @tf.functionをつけておくと、その関数を使う際は、最初に構築されたグラフを元に計算され、その都度構築されない。高速化。\n",
    "- 一方で、tf以外のメソッドを使うと、エラーが発生する"
   ]
  },
  {
   "cell_type": "code",
   "execution_count": 9,
   "metadata": {
    "ExecuteTime": {
     "end_time": "2020-06-11T12:45:46.200407Z",
     "start_time": "2020-06-11T12:45:46.190514Z"
    }
   },
   "outputs": [],
   "source": [
    "from tensorflow.keras import losses\n",
    "\n",
    "criterion = losses.BinaryCrossentropy()\n",
    "optimizer = optimizers.SGD(learning_rate=0.1)\n",
    "\n",
    "def compute_loss(t, y):\n",
    "    return criterion(t, y)\n",
    "\n",
    "@tf.function\n",
    "def train_step(x, t):\n",
    "    '''誤差伝播計算'''\n",
    "    with tf.GradientTape() as tape:\n",
    "        preds = model(x)\n",
    "        loss = compute_loss(t, preds)\n",
    "    # lossに対するモデルのパラメータの勾配を計算\n",
    "    grads = tape.gradient(loss, model.trainable_variables)\n",
    "    # 上で求めた勾配でパラメータ更新\n",
    "    optimizer.apply_gradients(zip(grads, model.trainable_variables))\n",
    "    return loss"
   ]
  },
  {
   "cell_type": "code",
   "execution_count": 10,
   "metadata": {
    "ExecuteTime": {
     "end_time": "2020-06-11T12:45:46.209025Z",
     "start_time": "2020-06-11T12:45:46.204587Z"
    }
   },
   "outputs": [],
   "source": [
    "epochs = 100\n",
    "batch_size = 10\n",
    "n_batches = x_train.shape[0] // batch_size"
   ]
  },
  {
   "cell_type": "code",
   "execution_count": 11,
   "metadata": {
    "ExecuteTime": {
     "end_time": "2020-06-11T12:45:47.607286Z",
     "start_time": "2020-06-11T12:45:46.212195Z"
    }
   },
   "outputs": [
    {
     "name": "stdout",
     "output_type": "stream",
     "text": [
      "WARNING:tensorflow:Layer mlp is casting an input tensor from dtype float64 to the layer's dtype of float32, which is new behavior in TensorFlow 2.  The layer has dtype float32 because it's dtype defaults to floatx.\n",
      "\n",
      "If you intended to run this layer in float32, you can safely ignore this warning. If in doubt, this warning is likely only an issue if you are porting a TensorFlow 1.X model to TensorFlow 2.\n",
      "\n",
      "To change all layers to have dtype float64 by default, call `tf.keras.backend.set_floatx('float64')`. To change just this layer, pass dtype='float64' to the layer constructor. If you are the author of this layer, you can disable autocasting by passing autocast=False to the base Layer constructor.\n",
      "\n",
      "epoch:1, loss:16.6\n",
      "epoch:2, loss:16.5\n",
      "epoch:3, loss:16.3\n",
      "epoch:4, loss:16.2\n",
      "epoch:5, loss:16.0\n",
      "epoch:6, loss:15.8\n",
      "epoch:7, loss:15.5\n",
      "epoch:8, loss:15.3\n",
      "epoch:9, loss:15.0\n",
      "epoch:10, loss:14.7\n",
      "epoch:11, loss:14.3\n",
      "epoch:12, loss:14.0\n",
      "epoch:13, loss:13.7\n",
      "epoch:14, loss:13.3\n",
      "epoch:15, loss:13.0\n",
      "epoch:16, loss:12.7\n",
      "epoch:17, loss:12.4\n",
      "epoch:18, loss:12.2\n",
      "epoch:19, loss:12.0\n",
      "epoch:20, loss:11.8\n",
      "epoch:21, loss:11.6\n",
      "epoch:22, loss:11.4\n",
      "epoch:23, loss:11.2\n",
      "epoch:24, loss:11.1\n",
      "epoch:25, loss:11.0\n",
      "epoch:26, loss:10.9\n",
      "epoch:27, loss:10.8\n",
      "epoch:28, loss:10.6\n",
      "epoch:29, loss:10.6\n",
      "epoch:30, loss:10.5\n",
      "epoch:31, loss:10.4\n",
      "epoch:32, loss:10.3\n",
      "epoch:33, loss:10.2\n",
      "epoch:34, loss:10.2\n",
      "epoch:35, loss:10.1\n",
      "epoch:36, loss:10.1\n",
      "epoch:37, loss:10.0\n",
      "epoch:38, loss:10.0\n",
      "epoch:39, loss:9.96\n",
      "epoch:40, loss:9.9\n",
      "epoch:41, loss:9.89\n",
      "epoch:42, loss:9.84\n",
      "epoch:43, loss:9.82\n",
      "epoch:44, loss:9.77\n",
      "epoch:45, loss:9.76\n",
      "epoch:46, loss:9.76\n",
      "epoch:47, loss:9.72\n",
      "epoch:48, loss:9.69\n",
      "epoch:49, loss:9.68\n",
      "epoch:50, loss:9.66\n",
      "epoch:51, loss:9.66\n",
      "epoch:52, loss:9.64\n",
      "epoch:53, loss:9.62\n",
      "epoch:54, loss:9.62\n",
      "epoch:55, loss:9.61\n",
      "epoch:56, loss:9.57\n",
      "epoch:57, loss:9.59\n",
      "epoch:58, loss:9.61\n",
      "epoch:59, loss:9.54\n",
      "epoch:60, loss:9.54\n",
      "epoch:61, loss:9.54\n",
      "epoch:62, loss:9.54\n",
      "epoch:63, loss:9.53\n",
      "epoch:64, loss:9.51\n",
      "epoch:65, loss:9.53\n",
      "epoch:66, loss:9.5\n",
      "epoch:67, loss:9.48\n",
      "epoch:68, loss:9.51\n",
      "epoch:69, loss:9.49\n",
      "epoch:70, loss:9.51\n",
      "epoch:71, loss:9.5\n",
      "epoch:72, loss:9.47\n",
      "epoch:73, loss:9.47\n",
      "epoch:74, loss:9.47\n",
      "epoch:75, loss:9.47\n",
      "epoch:76, loss:9.48\n",
      "epoch:77, loss:9.47\n",
      "epoch:78, loss:9.43\n",
      "epoch:79, loss:9.46\n",
      "epoch:80, loss:9.47\n",
      "epoch:81, loss:9.47\n",
      "epoch:82, loss:9.45\n",
      "epoch:83, loss:9.44\n",
      "epoch:84, loss:9.43\n",
      "epoch:85, loss:9.43\n",
      "epoch:86, loss:9.42\n",
      "epoch:87, loss:9.42\n",
      "epoch:88, loss:9.43\n",
      "epoch:89, loss:9.43\n",
      "epoch:90, loss:9.44\n",
      "epoch:91, loss:9.43\n",
      "epoch:92, loss:9.41\n",
      "epoch:93, loss:9.42\n",
      "epoch:94, loss:9.43\n",
      "epoch:95, loss:9.42\n",
      "epoch:96, loss:9.41\n",
      "epoch:97, loss:9.41\n",
      "epoch:98, loss:9.41\n",
      "epoch:99, loss:9.41\n",
      "epoch:100, loss:9.41\n"
     ]
    }
   ],
   "source": [
    "from sklearn.utils import shuffle\n",
    "\n",
    "for epoch in range(epochs):\n",
    "    train_loss = 0\n",
    "    x_, t_ = shuffle(x_train, t_train)\n",
    "    \n",
    "    # ミニバッチ学習\n",
    "    for batch in range(n_batches):\n",
    "        start = batch * batch_size\n",
    "        end = start + batch_size\n",
    "        loss = train_step(x_[start:end], t_[start:end])\n",
    "        # 値を取り出すには、.numpyが必要\n",
    "        train_loss += loss.numpy()\n",
    "    \n",
    "    print('epoch:{}, loss:{:.3}'.format(\n",
    "        epoch+1,\n",
    "        train_loss\n",
    "    ))"
   ]
  },
  {
   "cell_type": "markdown",
   "metadata": {},
   "source": [
    "#### モデル評価"
   ]
  },
  {
   "cell_type": "code",
   "execution_count": 12,
   "metadata": {
    "ExecuteTime": {
     "end_time": "2020-06-11T12:45:47.651171Z",
     "start_time": "2020-06-11T12:45:47.609555Z"
    }
   },
   "outputs": [
    {
     "name": "stdout",
     "output_type": "stream",
     "text": [
      "test_loss: 0.309, test_acc: 0.867\n"
     ]
    }
   ],
   "source": [
    "from tensorflow.keras import metrics\n",
    "\n",
    "test_loss = metrics.Mean()\n",
    "test_acc = metrics.BinaryAccuracy()\n",
    "\n",
    "def test_step(x, t):\n",
    "    preds = model(x)\n",
    "    loss = compute_loss(t, preds)\n",
    "    test_loss(loss)\n",
    "    test_acc(t, preds)\n",
    "    return preds\n",
    "\n",
    "test_step(x_test, t_test)\n",
    "\n",
    "print('test_loss: {:.3f}, test_acc: {:.3f}'.format(test_loss.result(), test_acc.result()))"
   ]
  },
  {
   "cell_type": "markdown",
   "metadata": {
    "ExecuteTime": {
     "end_time": "2020-06-09T00:27:10.679643Z",
     "start_time": "2020-06-09T00:27:10.674451Z"
    }
   },
   "source": [
    "### Pytorch\n",
    "\n",
    "- TnsorFlow(およびKeras)では、GPUに対応した実装かどうかは、ライブラリのインストール時に決まる\n",
    "- Pytorchでは、<span class=\"burk\"><span class=\"girk\">GPUを使用するかどうかは、deviceを定義するコードで決定する</span></span>、（コードの変更がないところが良い。）"
   ]
  },
  {
   "cell_type": "code",
   "execution_count": 21,
   "metadata": {
    "ExecuteTime": {
     "end_time": "2020-06-11T12:47:49.042685Z",
     "start_time": "2020-06-11T12:47:49.034330Z"
    }
   },
   "outputs": [],
   "source": [
    "import torch\n",
    "\n",
    "np.random.seed(123)\n",
    "torch.manual_seed(123)\n",
    "device = torch.device('cuda' if torch.cuda.is_available() else 'cpu')"
   ]
  },
  {
   "cell_type": "markdown",
   "metadata": {},
   "source": [
    "#### モデルの構築"
   ]
  },
  {
   "cell_type": "code",
   "execution_count": 24,
   "metadata": {
    "ExecuteTime": {
     "end_time": "2020-06-11T12:48:31.780428Z",
     "start_time": "2020-06-11T12:48:31.768192Z"
    }
   },
   "outputs": [],
   "source": [
    "import torch.nn as nn\n",
    "\n",
    "class MLP(nn.Module):\n",
    "    \n",
    "    def __init__(self, input_dim, hidden_dim, output_dim):\n",
    "        super().__init__()\n",
    "        self.l1 = nn.Linear(input_dim, hidden_dim)\n",
    "        self.a1 = nn.Sigmoid()\n",
    "        self.l2 = nn.Linear(hidden_dim, output_dim)\n",
    "        self.a2 = nn.Sigmoid()\n",
    "        \n",
    "        self.layers = [self.l1, self.a1, self.l2, self.a2]\n",
    "        \n",
    "    def forward(self, x):\n",
    "        for layer in self.layers:\n",
    "            x = layer(x)\n",
    "        return x"
   ]
  },
  {
   "cell_type": "code",
   "execution_count": 25,
   "metadata": {
    "ExecuteTime": {
     "end_time": "2020-06-11T12:48:32.220140Z",
     "start_time": "2020-06-11T12:48:32.212392Z"
    }
   },
   "outputs": [],
   "source": [
    "model = MLP(2,3,1).to(device)"
   ]
  },
  {
   "cell_type": "markdown",
   "metadata": {},
   "source": [
    "#### モデルの学習"
   ]
  },
  {
   "cell_type": "code",
   "execution_count": 41,
   "metadata": {
    "ExecuteTime": {
     "end_time": "2020-06-11T13:21:42.399034Z",
     "start_time": "2020-06-11T13:21:42.388200Z"
    }
   },
   "outputs": [],
   "source": [
    "import torch.optim as optimizers\n",
    "\n",
    "criterion = nn.BCELoss()\n",
    "optimizer = optimizers.SGD(model.parameters(), lr=0.1)\n",
    "\n",
    "def compute_loss(t, y):\n",
    "    return criterion(y, t)\n",
    "\n",
    "def train_step(x, t):\n",
    "    model.train()\n",
    "    preds = model(x)\n",
    "    loss = compute_loss(t, preds)\n",
    "    optimizer.zero_grad()\n",
    "    loss.backward()\n",
    "    optimizer.step()\n",
    "\n",
    "    return loss"
   ]
  },
  {
   "cell_type": "code",
   "execution_count": 42,
   "metadata": {
    "ExecuteTime": {
     "end_time": "2020-06-11T13:21:43.122847Z",
     "start_time": "2020-06-11T13:21:43.116716Z"
    }
   },
   "outputs": [],
   "source": [
    "epochs = 100\n",
    "batch_size = 10\n",
    "n_batches = x_train.shape[0] // batch_size"
   ]
  },
  {
   "cell_type": "code",
   "execution_count": 44,
   "metadata": {
    "ExecuteTime": {
     "end_time": "2020-06-11T13:21:51.225683Z",
     "start_time": "2020-06-11T13:21:49.955023Z"
    }
   },
   "outputs": [
    {
     "name": "stdout",
     "output_type": "stream",
     "text": [
      "epoch: 1, loss: 16.7\n",
      "epoch: 2, loss: 16.5\n",
      "epoch: 3, loss: 16.3\n",
      "epoch: 4, loss: 16.1\n",
      "epoch: 5, loss: 15.9\n",
      "epoch: 6, loss: 15.6\n",
      "epoch: 7, loss: 15.3\n",
      "epoch: 8, loss: 14.9\n",
      "epoch: 9, loss: 14.5\n",
      "epoch: 10, loss: 14.1\n",
      "epoch: 11, loss: 13.7\n",
      "epoch: 12, loss: 13.3\n",
      "epoch: 13, loss: 12.9\n",
      "epoch: 14, loss: 12.5\n",
      "epoch: 15, loss: 12.2\n",
      "epoch: 16, loss: 11.9\n",
      "epoch: 17, loss: 11.7\n",
      "epoch: 18, loss: 11.4\n",
      "epoch: 19, loss: 11.2\n",
      "epoch: 20, loss: 11.0\n",
      "epoch: 21, loss: 10.9\n",
      "epoch: 22, loss: 10.7\n",
      "epoch: 23, loss: 10.6\n",
      "epoch: 24, loss: 10.5\n",
      "epoch: 25, loss: 10.4\n",
      "epoch: 26, loss: 10.3\n",
      "epoch: 27, loss: 10.2\n",
      "epoch: 28, loss: 10.1\n",
      "epoch: 29, loss: 10.1\n",
      "epoch: 30, loss: 10.0\n",
      "epoch: 31, loss: 9.96\n",
      "epoch: 32, loss: 9.91\n",
      "epoch: 33, loss: 9.85\n",
      "epoch: 34, loss: 9.83\n",
      "epoch: 35, loss: 9.78\n",
      "epoch: 36, loss: 9.76\n",
      "epoch: 37, loss: 9.76\n",
      "epoch: 38, loss: 9.7\n",
      "epoch: 39, loss: 9.67\n",
      "epoch: 40, loss: 9.65\n",
      "epoch: 41, loss: 9.66\n",
      "epoch: 42, loss: 9.63\n",
      "epoch: 43, loss: 9.61\n",
      "epoch: 44, loss: 9.57\n",
      "epoch: 45, loss: 9.58\n",
      "epoch: 46, loss: 9.57\n",
      "epoch: 47, loss: 9.58\n",
      "epoch: 48, loss: 9.55\n",
      "epoch: 49, loss: 9.52\n",
      "epoch: 50, loss: 9.51\n",
      "epoch: 51, loss: 9.5\n",
      "epoch: 52, loss: 9.51\n",
      "epoch: 53, loss: 9.5\n",
      "epoch: 54, loss: 9.48\n",
      "epoch: 55, loss: 9.46\n",
      "epoch: 56, loss: 9.47\n",
      "epoch: 57, loss: 9.47\n",
      "epoch: 58, loss: 9.46\n",
      "epoch: 59, loss: 9.47\n",
      "epoch: 60, loss: 9.46\n",
      "epoch: 61, loss: 9.46\n",
      "epoch: 62, loss: 9.45\n",
      "epoch: 63, loss: 9.45\n",
      "epoch: 64, loss: 9.45\n",
      "epoch: 65, loss: 9.44\n",
      "epoch: 66, loss: 9.41\n",
      "epoch: 67, loss: 9.43\n",
      "epoch: 68, loss: 9.42\n",
      "epoch: 69, loss: 9.39\n",
      "epoch: 70, loss: 9.41\n",
      "epoch: 71, loss: 9.41\n",
      "epoch: 72, loss: 9.42\n",
      "epoch: 73, loss: 9.39\n",
      "epoch: 74, loss: 9.43\n",
      "epoch: 75, loss: 9.4\n",
      "epoch: 76, loss: 9.39\n",
      "epoch: 77, loss: 9.39\n",
      "epoch: 78, loss: 9.41\n",
      "epoch: 79, loss: 9.39\n",
      "epoch: 80, loss: 9.37\n",
      "epoch: 81, loss: 9.4\n",
      "epoch: 82, loss: 9.38\n",
      "epoch: 83, loss: 9.38\n",
      "epoch: 84, loss: 9.36\n",
      "epoch: 85, loss: 9.36\n",
      "epoch: 86, loss: 9.35\n",
      "epoch: 87, loss: 9.36\n",
      "epoch: 88, loss: 9.39\n",
      "epoch: 89, loss: 9.36\n",
      "epoch: 90, loss: 9.36\n",
      "epoch: 91, loss: 9.36\n",
      "epoch: 92, loss: 9.37\n",
      "epoch: 93, loss: 9.34\n",
      "epoch: 94, loss: 9.35\n",
      "epoch: 95, loss: 9.33\n",
      "epoch: 96, loss: 9.35\n",
      "epoch: 97, loss: 9.36\n",
      "epoch: 98, loss: 9.34\n",
      "epoch: 99, loss: 9.35\n",
      "epoch: 100, loss: 9.36\n"
     ]
    }
   ],
   "source": [
    "for epoch in range(epochs):\n",
    "    train_loss = 0.\n",
    "    x_, t_ = shuffle(x_train, t_train)\n",
    "    # numpyを明示的にtensorに変換する必要あり\n",
    "    x_ = torch.Tensor(x_).to(device)\n",
    "    t_ = torch.Tensor(t_).to(device)\n",
    "    \n",
    "    for n_batch in range(n_batches):\n",
    "        start = n_batch * batch_size\n",
    "        end = start + batch_size\n",
    "        loss = train_step(x_[start:end], t_[start:end])\n",
    "        train_loss += loss.item()\n",
    "        \n",
    "    print('epoch: {}, loss: {:.3}'.format(epoch+1, train_loss))"
   ]
  },
  {
   "cell_type": "markdown",
   "metadata": {},
   "source": [
    "#### モデルの評価"
   ]
  },
  {
   "cell_type": "code",
   "execution_count": 45,
   "metadata": {
    "ExecuteTime": {
     "end_time": "2020-06-11T13:48:42.769812Z",
     "start_time": "2020-06-11T13:48:42.763483Z"
    }
   },
   "outputs": [],
   "source": [
    "def test_step(x, t):\n",
    "    x = torch.Tensor(x).to(device)\n",
    "    t = torch.Tensor(t).to(device)\n",
    "    # 推論モードは指定する必要あり\n",
    "    model.eval()\n",
    "    preds = model(x)\n",
    "    loss = compute_loss(t, preds)\n",
    "    return loss, preds"
   ]
  },
  {
   "cell_type": "code",
   "execution_count": 59,
   "metadata": {
    "ExecuteTime": {
     "end_time": "2020-06-11T13:54:03.969379Z",
     "start_time": "2020-06-11T13:54:03.957281Z"
    }
   },
   "outputs": [
    {
     "name": "stdout",
     "output_type": "stream",
     "text": [
      "test_loss: 0.310, test_acc: 0.883\n"
     ]
    }
   ],
   "source": [
    "from sklearn.metrics import accuracy_score\n",
    "\n",
    "loss, preds = test_step(x_test, t_test)\n",
    "test_loss = loss.item()\n",
    "# tensorからnumpyに変換。CPUのテンソル型でないと行けない。\n",
    "preds = preds.data.cpu().numpy() > 0.5\n",
    "test_acc = accuracy_score(t_test, preds)\n",
    "\n",
    "print('test_loss: {:.3f}, test_acc: {:.3f}'.format(test_loss, test_acc))"
   ]
  },
  {
   "cell_type": "markdown",
   "metadata": {
    "ExecuteTime": {
     "end_time": "2020-06-11T13:52:45.548685Z",
     "start_time": "2020-06-11T13:52:45.537452Z"
    }
   },
   "source": [
    "## ディープラーニングへの準備\n",
    "\n",
    "### MNIST\n",
    "- 0~9までの数字の手書きデータ\n",
    "- 学習用データ60,000枚、テスト用データ10,000枚\n",
    "- 各画像は28×28ピクセル"
   ]
  },
  {
   "cell_type": "code",
   "execution_count": 67,
   "metadata": {
    "ExecuteTime": {
     "end_time": "2020-06-11T14:05:46.957445Z",
     "start_time": "2020-06-11T14:05:46.677147Z"
    }
   },
   "outputs": [],
   "source": [
    "from tensorflow.keras import datasets\n",
    "\n",
    "mnist = datasets.mnist\n",
    "(x_train, t_train), (x_test, t_test) = mnist.load_data()"
   ]
  },
  {
   "cell_type": "code",
   "execution_count": 71,
   "metadata": {
    "ExecuteTime": {
     "end_time": "2020-06-11T14:06:47.062442Z",
     "start_time": "2020-06-11T14:06:45.373992Z"
    }
   },
   "outputs": [],
   "source": [
    "# モデルの入力に合わせるために、28×28=784次元に整形\n",
    "# 画素値を0-1に規格化\n",
    "x_train = (x_train.reshape(-1, 784) / 255).astype(np.float32)\n",
    "x_test = (x_test.reshape(-1,784)/255).astype(np.float32)\n",
    "\n",
    "# １０次元の単位行列から、正解ベクトルを生成\n",
    "t_train = np.eye(10)[t_train].astype(np.float32)\n",
    "t_test = np.eye(10)[t_test].astype(np.float32)"
   ]
  },
  {
   "cell_type": "markdown",
   "metadata": {
    "ExecuteTime": {
     "end_time": "2020-06-11T14:05:48.091969Z",
     "start_time": "2020-06-11T14:05:48.078048Z"
    }
   },
   "source": [
    "#### ２００次元の隠れ層を実装"
   ]
  },
  {
   "cell_type": "code",
   "execution_count": 78,
   "metadata": {
    "ExecuteTime": {
     "end_time": "2020-06-11T14:12:42.928012Z",
     "start_time": "2020-06-11T14:12:42.916368Z"
    }
   },
   "outputs": [],
   "source": [
    "model = Sequential()\n",
    "model.add(Dense(200, activation='sigmoid'))\n",
    "model.add(Dense(10, activation='softmax'))"
   ]
  },
  {
   "cell_type": "code",
   "execution_count": 79,
   "metadata": {
    "ExecuteTime": {
     "end_time": "2020-06-11T14:13:27.628008Z",
     "start_time": "2020-06-11T14:12:43.429395Z"
    }
   },
   "outputs": [
    {
     "name": "stdout",
     "output_type": "stream",
     "text": [
      "Epoch 1/30\n",
      "600/600 - 1s - loss: 1.9206 - accuracy: 0.5753\n",
      "Epoch 2/30\n",
      "600/600 - 1s - loss: 1.3076 - accuracy: 0.7764\n",
      "Epoch 3/30\n",
      "600/600 - 1s - loss: 0.9572 - accuracy: 0.8189\n",
      "Epoch 4/30\n",
      "600/600 - 1s - loss: 0.7714 - accuracy: 0.8404\n",
      "Epoch 5/30\n",
      "600/600 - 1s - loss: 0.6634 - accuracy: 0.8522\n",
      "Epoch 6/30\n",
      "600/600 - 1s - loss: 0.5935 - accuracy: 0.8614\n",
      "Epoch 7/30\n",
      "600/600 - 1s - loss: 0.5447 - accuracy: 0.8687\n",
      "Epoch 8/30\n",
      "600/600 - 1s - loss: 0.5085 - accuracy: 0.8740\n",
      "Epoch 9/30\n",
      "600/600 - 2s - loss: 0.4808 - accuracy: 0.8791\n",
      "Epoch 10/30\n",
      "600/600 - 1s - loss: 0.4586 - accuracy: 0.8823\n",
      "Epoch 11/30\n",
      "600/600 - 1s - loss: 0.4405 - accuracy: 0.8855\n",
      "Epoch 12/30\n",
      "600/600 - 1s - loss: 0.4257 - accuracy: 0.8884\n",
      "Epoch 13/30\n",
      "600/600 - 2s - loss: 0.4131 - accuracy: 0.8902\n",
      "Epoch 14/30\n",
      "600/600 - 1s - loss: 0.4022 - accuracy: 0.8921\n",
      "Epoch 15/30\n",
      "600/600 - 1s - loss: 0.3928 - accuracy: 0.8944\n",
      "Epoch 16/30\n",
      "600/600 - 1s - loss: 0.3846 - accuracy: 0.8958\n",
      "Epoch 17/30\n",
      "600/600 - 1s - loss: 0.3772 - accuracy: 0.8971\n",
      "Epoch 18/30\n",
      "600/600 - 1s - loss: 0.3707 - accuracy: 0.8981\n",
      "Epoch 19/30\n",
      "600/600 - 1s - loss: 0.3648 - accuracy: 0.8991\n",
      "Epoch 20/30\n",
      "600/600 - 1s - loss: 0.3595 - accuracy: 0.8999\n",
      "Epoch 21/30\n",
      "600/600 - 1s - loss: 0.3547 - accuracy: 0.9011\n",
      "Epoch 22/30\n",
      "600/600 - 1s - loss: 0.3501 - accuracy: 0.9018\n",
      "Epoch 23/30\n",
      "600/600 - 2s - loss: 0.3461 - accuracy: 0.9024\n",
      "Epoch 24/30\n",
      "600/600 - 1s - loss: 0.3422 - accuracy: 0.9036\n",
      "Epoch 25/30\n",
      "600/600 - 1s - loss: 0.3386 - accuracy: 0.9043\n",
      "Epoch 26/30\n",
      "600/600 - 1s - loss: 0.3354 - accuracy: 0.9051\n",
      "Epoch 27/30\n",
      "600/600 - 1s - loss: 0.3322 - accuracy: 0.9057\n",
      "Epoch 28/30\n",
      "600/600 - 1s - loss: 0.3292 - accuracy: 0.9063\n",
      "Epoch 29/30\n",
      "600/600 - 1s - loss: 0.3265 - accuracy: 0.9071\n",
      "Epoch 30/30\n",
      "600/600 - 1s - loss: 0.3238 - accuracy: 0.9073\n",
      "test_acc: 0.310, test_acc:0.914\n"
     ]
    }
   ],
   "source": [
    "model.compile(optimizer='sgd', loss='categorical_crossentropy', metrics=['accuracy'])\n",
    "\n",
    "model.fit(x_train, t_train, epochs=30, batch_size=100, verbose=2)\n",
    "\n",
    "loss, acc = model.evaluate(x_test, t_test, verbose=0)\n",
    "print('test_acc: {:.3f}, test_acc:{:.3f}'.format(loss, acc))"
   ]
  },
  {
   "cell_type": "markdown",
   "metadata": {},
   "source": [
    "#### 20,000次元の隠れ層を実装\n",
    "\n",
    "- ニューロンの数を増やしても、単純に精度が上がるわけではない(教科書よりは増えている気がする)\n",
    "- 計算時間は、ニューロンのつながり（掛け算）で増えてく"
   ]
  },
  {
   "cell_type": "code",
   "execution_count": 80,
   "metadata": {
    "ExecuteTime": {
     "end_time": "2020-06-11T14:14:23.077557Z",
     "start_time": "2020-06-11T14:14:23.068394Z"
    }
   },
   "outputs": [],
   "source": [
    "model = Sequential()\n",
    "model.add(Dense(20000, activation='sigmoid'))\n",
    "model.add(Dense(10, activation='softmax'))"
   ]
  },
  {
   "cell_type": "code",
   "execution_count": 81,
   "metadata": {
    "ExecuteTime": {
     "end_time": "2020-06-11T14:20:33.407867Z",
     "start_time": "2020-06-11T14:14:32.345273Z"
    }
   },
   "outputs": [
    {
     "name": "stdout",
     "output_type": "stream",
     "text": [
      "Epoch 1/10\n",
      "600/600 - 31s - loss: 12.5411 - accuracy: 0.1464\n",
      "Epoch 2/10\n",
      "600/600 - 33s - loss: 5.0272 - accuracy: 0.3662\n",
      "Epoch 3/10\n",
      "600/600 - 34s - loss: 1.9611 - accuracy: 0.5836\n",
      "Epoch 4/10\n",
      "600/600 - 39s - loss: 1.2107 - accuracy: 0.6868\n",
      "Epoch 5/10\n",
      "600/600 - 36s - loss: 0.8785 - accuracy: 0.7422\n",
      "Epoch 6/10\n",
      "600/600 - 38s - loss: 0.7281 - accuracy: 0.7809\n",
      "Epoch 7/10\n",
      "600/600 - 36s - loss: 0.6210 - accuracy: 0.8077\n",
      "Epoch 8/10\n",
      "600/600 - 35s - loss: 0.6020 - accuracy: 0.8139\n",
      "Epoch 9/10\n",
      "600/600 - 37s - loss: 0.5170 - accuracy: 0.8390\n",
      "Epoch 10/10\n",
      "600/600 - 37s - loss: 0.4845 - accuracy: 0.8486\n",
      "test_acc: 0.541, test_acc:0.824\n"
     ]
    }
   ],
   "source": [
    "model.compile(optimizer='sgd', loss='categorical_crossentropy', metrics=['accuracy'])\n",
    "\n",
    "model.fit(x_train, t_train, epochs=10, batch_size=100, verbose=2)\n",
    "\n",
    "loss, acc = model.evaluate(x_test, t_test, verbose=0)\n",
    "print('test_acc: {:.3f}, test_acc:{:.3f}'.format(loss, acc))"
   ]
  },
  {
   "cell_type": "markdown",
   "metadata": {},
   "source": [
    "#### 200次元、４層の隠れ層を実装\n",
    "\n",
    "- 勾配消失問題で、学習が進まない"
   ]
  },
  {
   "cell_type": "code",
   "execution_count": 82,
   "metadata": {
    "ExecuteTime": {
     "end_time": "2020-06-11T14:20:33.571024Z",
     "start_time": "2020-06-11T14:20:33.557077Z"
    }
   },
   "outputs": [],
   "source": [
    "model = Sequential()\n",
    "model.add(Dense(200, activation='sigmoid'))\n",
    "model.add(Dense(200, activation='sigmoid'))\n",
    "model.add(Dense(200, activation='sigmoid'))\n",
    "model.add(Dense(10, activation='softmax'))"
   ]
  },
  {
   "cell_type": "code",
   "execution_count": 83,
   "metadata": {
    "ExecuteTime": {
     "end_time": "2020-06-11T14:20:59.522344Z",
     "start_time": "2020-06-11T14:20:33.724537Z"
    }
   },
   "outputs": [
    {
     "name": "stdout",
     "output_type": "stream",
     "text": [
      "Epoch 1/10\n",
      "600/600 - 3s - loss: 2.3023 - accuracy: 0.1124\n",
      "Epoch 2/10\n",
      "600/600 - 3s - loss: 2.2963 - accuracy: 0.1233\n",
      "Epoch 3/10\n",
      "600/600 - 2s - loss: 2.2919 - accuracy: 0.1329\n",
      "Epoch 4/10\n",
      "600/600 - 2s - loss: 2.2868 - accuracy: 0.1527\n",
      "Epoch 5/10\n",
      "600/600 - 2s - loss: 2.2807 - accuracy: 0.1659\n",
      "Epoch 6/10\n",
      "600/600 - 2s - loss: 2.2732 - accuracy: 0.1837\n",
      "Epoch 7/10\n",
      "600/600 - 2s - loss: 2.2636 - accuracy: 0.2100\n",
      "Epoch 8/10\n",
      "600/600 - 2s - loss: 2.2503 - accuracy: 0.2396\n",
      "Epoch 9/10\n",
      "600/600 - 2s - loss: 2.2316 - accuracy: 0.3156\n",
      "Epoch 10/10\n",
      "600/600 - 2s - loss: 2.2035 - accuracy: 0.3647\n",
      "test_acc: 2.181, test_acc:0.323\n"
     ]
    }
   ],
   "source": [
    "model.compile(optimizer='sgd', loss='categorical_crossentropy', metrics=['accuracy'])\n",
    "\n",
    "model.fit(x_train, t_train, epochs=10, batch_size=100, verbose=2)\n",
    "\n",
    "loss, acc = model.evaluate(x_test, t_test, verbose=0)\n",
    "print('test_acc: {:.3f}, test_acc:{:.3f}'.format(loss, acc))"
   ]
  },
  {
   "cell_type": "markdown",
   "metadata": {},
   "source": [
    "### Keras, TF, Pytorchでモデル実装の準備"
   ]
  },
  {
   "cell_type": "markdown",
   "metadata": {},
   "source": [
    "#### Keras(上と同じなので省略)"
   ]
  },
  {
   "cell_type": "markdown",
   "metadata": {},
   "source": [
    "#### TF"
   ]
  },
  {
   "cell_type": "markdown",
   "metadata": {},
   "source": [
    "##### モデル構築"
   ]
  },
  {
   "cell_type": "code",
   "execution_count": 84,
   "metadata": {
    "ExecuteTime": {
     "end_time": "2020-06-11T14:27:10.762547Z",
     "start_time": "2020-06-11T14:27:10.749345Z"
    }
   },
   "outputs": [],
   "source": [
    "import tensorflow as tf\n",
    "from tensorflow.keras.models import Model\n",
    "from tensorflow.keras.layers import Dense\n",
    "\n",
    "class DNN(Model):\n",
    "    def __init__(self, hidden_dim, output_dim):\n",
    "        super().__init__()\n",
    "        self.l1 = Dense(hidden_dim, activation='sigmoid')\n",
    "        self.l2 = Dense(hidden_dim, activation='sigmoid')        \n",
    "        self.l3 = Dense(hidden_dim, activation='sigmoid')        \n",
    "        self.l4 = Dense(output_dim, activation='softmax')\n",
    "        \n",
    "        self.ls = [ self.l1, self.l2, self.l3, self.l4]\n",
    "        \n",
    "    def call(self, x):\n",
    "        for layer in self.ls:\n",
    "            x = layer(x)\n",
    "        return x"
   ]
  },
  {
   "cell_type": "code",
   "execution_count": 86,
   "metadata": {
    "ExecuteTime": {
     "end_time": "2020-06-11T14:33:54.774118Z",
     "start_time": "2020-06-11T14:33:54.756495Z"
    }
   },
   "outputs": [],
   "source": [
    "# 隠れ層の次元が200のモデル\n",
    "model = DNN(200, 10)"
   ]
  },
  {
   "cell_type": "markdown",
   "metadata": {},
   "source": [
    "##### データ準備"
   ]
  },
  {
   "cell_type": "code",
   "execution_count": 85,
   "metadata": {
    "ExecuteTime": {
     "end_time": "2020-06-11T14:33:23.926478Z",
     "start_time": "2020-06-11T14:33:23.141271Z"
    }
   },
   "outputs": [],
   "source": [
    "mnist = datasets.mnist\n",
    "(x_train, t_train), (x_test, t_test) = mnist.load_data()\n",
    "\n",
    "# モデルの入力に合わせるために、28×28=784次元に整形\n",
    "# 画素値を0-1に規格化\n",
    "x_train = (x_train.reshape(-1, 784) / 255).astype(np.float32)\n",
    "x_test = (x_test.reshape(-1,784)/255).astype(np.float32)\n",
    "\n",
    "# １０次元の単位行列から、正解ベクトルを生成\n",
    "t_train = np.eye(10)[t_train].astype(np.float32)\n",
    "t_test = np.eye(10)[t_test].astype(np.float32)"
   ]
  },
  {
   "cell_type": "markdown",
   "metadata": {},
   "source": [
    "##### モデル学習(4.1とほぼ同じ)"
   ]
  },
  {
   "cell_type": "code",
   "execution_count": 97,
   "metadata": {
    "ExecuteTime": {
     "end_time": "2020-06-11T14:41:26.411728Z",
     "start_time": "2020-06-11T14:41:26.310677Z"
    }
   },
   "outputs": [],
   "source": [
    "from tensorflow.keras import losses\n",
    "from tensorflow.keras import optimizers\n",
    "\n",
    "criterion = losses.CategoricalCrossentropy()\n",
    "optimizer = optimizers.SGD(learning_rate=0.1)\n",
    "train_loss = metrics.Mean()\n",
    "train_acc = metrics.CategoricalAccuracy()\n",
    "\n",
    "def compute_loss(t, y):\n",
    "    return criterion(t, y)\n",
    "\n",
    "@tf.function\n",
    "def train_step(x, t):\n",
    "    '''誤差伝播計算'''\n",
    "    with tf.GradientTape() as tape:\n",
    "        preds = model(x)\n",
    "        loss = compute_loss(t, preds)\n",
    "    # lossに対するモデルのパラメータの勾配を計算\n",
    "    grads = tape.gradient(loss, model.trainable_variables)\n",
    "    # 上で求めた勾配でパラメータ更新\n",
    "    optimizer.apply_gradients(zip(grads, model.trainable_variables))\n",
    "    train_loss(loss)\n",
    "    train_acc(t, preds)\n",
    "    return loss"
   ]
  },
  {
   "cell_type": "code",
   "execution_count": 100,
   "metadata": {
    "ExecuteTime": {
     "end_time": "2020-06-11T14:43:30.587816Z",
     "start_time": "2020-06-11T14:43:30.580724Z"
    }
   },
   "outputs": [],
   "source": [
    "epochs = 10\n",
    "batch_size = 10\n",
    "n_batches = x_train.shape[0] // batch_size"
   ]
  },
  {
   "cell_type": "code",
   "execution_count": 101,
   "metadata": {
    "ExecuteTime": {
     "end_time": "2020-06-11T14:45:00.150844Z",
     "start_time": "2020-06-11T14:43:31.130178Z"
    }
   },
   "outputs": [
    {
     "name": "stdout",
     "output_type": "stream",
     "text": [
      "epoch:1, loss:0.143\n",
      "epoch:2, loss:0.135\n",
      "epoch:3, loss:0.128\n",
      "epoch:4, loss:0.122\n",
      "epoch:5, loss:0.116\n",
      "epoch:6, loss:0.11\n",
      "epoch:7, loss:0.105\n",
      "epoch:8, loss:0.101\n",
      "epoch:9, loss:0.0965\n",
      "epoch:10, loss:0.0925\n"
     ]
    }
   ],
   "source": [
    "for epoch in range(epochs):\n",
    "    x_, t_ = shuffle(x_train, t_train)\n",
    "    \n",
    "    # ミニバッチ学習\n",
    "    for batch in range(n_batches):\n",
    "        start = batch * batch_size\n",
    "        end = start + batch_size\n",
    "        train_step(x_[start:end], t_[start:end])\n",
    "        \n",
    "    print('epoch:{}, loss:{:.3}'.format(\n",
    "        epoch+1,\n",
    "        train_loss.result(),\n",
    "        train_acc.result()\n",
    "    ))"
   ]
  },
  {
   "cell_type": "markdown",
   "metadata": {},
   "source": [
    "##### モデル評価"
   ]
  },
  {
   "cell_type": "code",
   "execution_count": 102,
   "metadata": {
    "ExecuteTime": {
     "end_time": "2020-06-11T14:45:00.700954Z",
     "start_time": "2020-06-11T14:45:00.235114Z"
    }
   },
   "outputs": [
    {
     "name": "stdout",
     "output_type": "stream",
     "text": [
      "test_loss: 0.086, test_acc: 0.980\n"
     ]
    }
   ],
   "source": [
    "test_loss = metrics.Mean()\n",
    "test_acc = metrics.CategoricalAccuracy()\n",
    "\n",
    "def test_step(x, t):\n",
    "    preds = model(x)\n",
    "    loss = compute_loss(t, preds)\n",
    "    test_loss(loss)\n",
    "    test_acc(t, preds)\n",
    "    return preds\n",
    "\n",
    "test_step(x_test, t_test)\n",
    "\n",
    "print('test_loss: {:.3f}, test_acc: {:.3f}'.format(test_loss.result(), test_acc.result()))"
   ]
  },
  {
   "cell_type": "markdown",
   "metadata": {},
   "source": [
    "#### Pytorch"
   ]
  },
  {
   "cell_type": "markdown",
   "metadata": {
    "ExecuteTime": {
     "end_time": "2020-06-11T14:45:00.792394Z",
     "start_time": "2020-06-11T14:45:00.787529Z"
    }
   },
   "source": [
    "##### データ読み込み\n",
    "\n",
    "- torchvision.transformsで、画像からテンソル型への変換が行われる"
   ]
  },
  {
   "cell_type": "code",
   "execution_count": 111,
   "metadata": {
    "ExecuteTime": {
     "end_time": "2020-06-11T14:57:56.931665Z",
     "start_time": "2020-06-11T14:57:56.859852Z"
    }
   },
   "outputs": [],
   "source": [
    "import os\n",
    "from torchvision import datasets\n",
    "\n",
    "root = os.path.join('~','.torch', 'mnist')\n",
    "mnist_train = datasets.MNIST(root=root, download=True, train=True)"
   ]
  },
  {
   "cell_type": "code",
   "execution_count": 117,
   "metadata": {
    "ExecuteTime": {
     "end_time": "2020-06-11T15:06:37.965476Z",
     "start_time": "2020-06-11T15:06:37.915097Z"
    }
   },
   "outputs": [],
   "source": [
    "import torchvision.transforms as transforms\n",
    "\n",
    "transform = transforms.Compose([transforms.ToTensor(), lambda x: x.view(-1)])\n",
    "\n",
    "mnist_train = datasets.MNIST(root=root, download=True, train=True, transform=transform)\n",
    "mnist_test = datasets.MNIST(root=root, download=True, train=False, transform=transform)"
   ]
  },
  {
   "cell_type": "markdown",
   "metadata": {},
   "source": [
    "バッチ単位での学習のために、Dataloaderオブジェクトへ変換"
   ]
  },
  {
   "cell_type": "code",
   "execution_count": 118,
   "metadata": {
    "ExecuteTime": {
     "end_time": "2020-06-11T15:06:58.537351Z",
     "start_time": "2020-06-11T15:06:58.528879Z"
    }
   },
   "outputs": [],
   "source": [
    "from torch.utils.data import DataLoader\n",
    "\n",
    "train_dataloader = DataLoader(mnist_train, batch_size=100, shuffle=True)\n",
    "test_dataloader = DataLoader(mnist_test, batch_size=100, shuffle=False)"
   ]
  },
  {
   "cell_type": "markdown",
   "metadata": {},
   "source": [
    "##### モデル実装"
   ]
  },
  {
   "cell_type": "code",
   "execution_count": 129,
   "metadata": {
    "ExecuteTime": {
     "end_time": "2020-06-11T15:23:08.763979Z",
     "start_time": "2020-06-11T15:23:08.751522Z"
    }
   },
   "outputs": [],
   "source": [
    "class DNN(nn.Module):\n",
    "    def __init__(self, input_dim, hidden_dim, output_dim):\n",
    "        super().__init__()\n",
    "        self.l1 = nn.Linear(input_dim, hidden_dim)\n",
    "        self.a1 = nn.Sigmoid()\n",
    "        self.l2 = nn.Linear(hidden_dim, hidden_dim)\n",
    "        self.a2 = nn.Sigmoid()\n",
    "        self.l3 = nn.Linear(hidden_dim, hidden_dim)\n",
    "        self.a3 = nn.Sigmoid()\n",
    "        self.l4 = nn.Linear(hidden_dim, output_dim)\n",
    "\n",
    "        self.layers = [self.l1, self.a1,\n",
    "                       self.l2, self.a2,\n",
    "                       self.l3, self.a3,\n",
    "                       self.l4]\n",
    "\n",
    "    def forward(self, x):\n",
    "        for layer in self.layers:\n",
    "            x = layer(x)\n",
    "\n",
    "        return x"
   ]
  },
  {
   "cell_type": "code",
   "execution_count": 130,
   "metadata": {
    "ExecuteTime": {
     "end_time": "2020-06-11T15:23:10.512275Z",
     "start_time": "2020-06-11T15:23:10.501717Z"
    }
   },
   "outputs": [],
   "source": [
    "model = DNN(784, 200, 10).to(device)"
   ]
  },
  {
   "cell_type": "markdown",
   "metadata": {},
   "source": [
    "##### モデル学習"
   ]
  },
  {
   "cell_type": "code",
   "execution_count": 131,
   "metadata": {
    "ExecuteTime": {
     "end_time": "2020-06-11T15:23:27.504557Z",
     "start_time": "2020-06-11T15:23:27.494878Z"
    }
   },
   "outputs": [],
   "source": [
    "criterion = nn.CrossEntropyLoss()\n",
    "optimizer = optimizers.SGD(model.parameters(), lr=0.01)\n",
    "\n",
    "def compute_loss(t, y):\n",
    "    return criterion(y, t)\n",
    "\n",
    "def train_step(x, t):\n",
    "    model.train()\n",
    "    preds = model(x)\n",
    "    loss = compute_loss(t, preds)\n",
    "    optimizer.zero_grad()\n",
    "    loss.backward()\n",
    "    optimizer.step()\n",
    "\n",
    "    return loss, preds"
   ]
  },
  {
   "cell_type": "code",
   "execution_count": 133,
   "metadata": {
    "ExecuteTime": {
     "end_time": "2020-06-11T15:26:05.001929Z",
     "start_time": "2020-06-11T15:24:20.499718Z"
    }
   },
   "outputs": [
    {
     "name": "stdout",
     "output_type": "stream",
     "text": [
      "epoch: 1, loss: 2.3, acc: 0.111\n",
      "epoch: 2, loss: 2.3, acc: 0.110\n",
      "epoch: 3, loss: 2.3, acc: 0.112\n",
      "epoch: 4, loss: 2.3, acc: 0.112\n",
      "epoch: 5, loss: 2.3, acc: 0.111\n",
      "epoch: 6, loss: 2.3, acc: 0.112\n",
      "epoch: 7, loss: 2.3, acc: 0.111\n",
      "epoch: 8, loss: 2.3, acc: 0.112\n",
      "epoch: 9, loss: 2.3, acc: 0.113\n",
      "epoch: 10, loss: 2.3, acc: 0.113\n"
     ]
    }
   ],
   "source": [
    "epochs = 10\n",
    "\n",
    "for epoch in range(epochs):\n",
    "    train_loss = 0.\n",
    "    train_acc = 0.\n",
    "\n",
    "    for (x, t) in train_dataloader:\n",
    "        x, t = x.to(device), t.to(device)\n",
    "        loss, preds = train_step(x, t)\n",
    "        train_loss += loss.item()\n",
    "        train_acc += \\\n",
    "            accuracy_score(t.tolist(),\n",
    "                           preds.argmax(dim=-1).tolist())\n",
    "\n",
    "    train_loss /= len(train_dataloader)\n",
    "    train_acc /= len(train_dataloader)\n",
    "\n",
    "    print('epoch: {}, loss: {:.3}, acc: {:.3f}'.format(\n",
    "        epoch+1,\n",
    "        train_loss,\n",
    "        train_acc\n",
    "    ))"
   ]
  },
  {
   "cell_type": "markdown",
   "metadata": {},
   "source": [
    "##### モデル評価"
   ]
  },
  {
   "cell_type": "code",
   "execution_count": 128,
   "metadata": {
    "ExecuteTime": {
     "end_time": "2020-06-11T15:22:20.268704Z",
     "start_time": "2020-06-11T15:22:19.056380Z"
    }
   },
   "outputs": [
    {
     "name": "stdout",
     "output_type": "stream",
     "text": [
      "test_loss: 2.300, test_acc: 0.113\n"
     ]
    }
   ],
   "source": [
    "def test_step(x, t):\n",
    "    model.eval()\n",
    "    preds = model(x)\n",
    "    loss = criterion(preds, t)\n",
    "\n",
    "    return loss, preds\n",
    "\n",
    "test_loss = 0.\n",
    "test_acc = 0.\n",
    "\n",
    "for (x, t) in test_dataloader:\n",
    "    x, t = x.to(device), t.to(device)\n",
    "    loss, preds = test_step(x, t)\n",
    "    test_loss += loss.item()\n",
    "    test_acc += \\\n",
    "        accuracy_score(t.tolist(),\n",
    "                       preds.argmax(dim=-1).tolist())\n",
    "\n",
    "test_loss /= len(test_dataloader)\n",
    "test_acc /= len(test_dataloader)\n",
    "print('test_loss: {:.3f}, test_acc: {:.3f}'.format(\n",
    "    test_loss,\n",
    "    test_acc\n",
    "))"
   ]
  },
  {
   "cell_type": "markdown",
   "metadata": {},
   "source": [
    "## 活性化関数の工夫\n",
    "\n",
    "- 勾配消失問題を解決するために、活性化関数を工夫できないか"
   ]
  },
  {
   "cell_type": "code",
   "execution_count": 13,
   "metadata": {
    "ExecuteTime": {
     "end_time": "2020-06-11T15:53:02.464820Z",
     "start_time": "2020-06-11T15:53:01.027494Z"
    }
   },
   "outputs": [],
   "source": [
    "import sympy as sym\n",
    "from sympy.plotting import plot\n",
    "sym.init_printing(use_unicode=True)\n",
    "%matplotlib inline\n",
    "\n",
    "x = sym.Symbol('x')\n",
    "y = sym.Symbol('y')"
   ]
  },
  {
   "cell_type": "markdown",
   "metadata": {},
   "source": [
    "### 双極正接関数(tanh)\n",
    "- 値域が[-1,1]\n",
    "- 微分の最大値が1と、シグモイドより大きい"
   ]
  },
  {
   "cell_type": "code",
   "execution_count": 148,
   "metadata": {
    "ExecuteTime": {
     "end_time": "2020-06-11T15:37:36.551834Z",
     "start_time": "2020-06-11T15:37:36.323107Z"
    }
   },
   "outputs": [
    {
     "name": "stderr",
     "output_type": "stream",
     "text": [
      "/opt/conda/lib/python3.7/site-packages/sympy/plotting/plot.py:1065: MatplotlibDeprecationWarning: \n",
      "The set_smart_bounds function was deprecated in Matplotlib 3.2 and will be removed two minor releases later.\n",
      "  self.ax[i].spines['left'].set_smart_bounds(True)\n",
      "/opt/conda/lib/python3.7/site-packages/sympy/plotting/plot.py:1066: MatplotlibDeprecationWarning: \n",
      "The set_smart_bounds function was deprecated in Matplotlib 3.2 and will be removed two minor releases later.\n",
      "  self.ax[i].spines['bottom'].set_smart_bounds(False)\n"
     ]
    },
    {
     "data": {
      "image/png": "[encoded data removed]",
      "text/plain": [
       "<Figure size 432x288 with 1 Axes>"
      ]
     },
     "metadata": {
      "needs_background": "light"
     },
     "output_type": "display_data"
    },
    {
     "data": {
      "text/plain": [
       "<sympy.plotting.plot.Plot at 0x7f75e4499ad0>"
      ]
     },
     "execution_count": 148,
     "metadata": {},
     "output_type": "execute_result"
    }
   ],
   "source": [
    "expr = sym.tanh(x)\n",
    "plot(expr, (x, -10, 10))"
   ]
  },
  {
   "cell_type": "code",
   "execution_count": 139,
   "metadata": {
    "ExecuteTime": {
     "end_time": "2020-06-11T15:34:06.544654Z",
     "start_time": "2020-06-11T15:34:06.316000Z"
    }
   },
   "outputs": [
    {
     "name": "stderr",
     "output_type": "stream",
     "text": [
      "/opt/conda/lib/python3.7/site-packages/sympy/plotting/plot.py:1065: MatplotlibDeprecationWarning: \n",
      "The set_smart_bounds function was deprecated in Matplotlib 3.2 and will be removed two minor releases later.\n",
      "  self.ax[i].spines['left'].set_smart_bounds(True)\n",
      "/opt/conda/lib/python3.7/site-packages/sympy/plotting/plot.py:1066: MatplotlibDeprecationWarning: \n",
      "The set_smart_bounds function was deprecated in Matplotlib 3.2 and will be removed two minor releases later.\n",
      "  self.ax[i].spines['bottom'].set_smart_bounds(False)\n"
     ]
    },
    {
     "data": {
      "image/png": "[encoded data removed]",
      "text/plain": [
       "<Figure size 432x288 with 1 Axes>"
      ]
     },
     "metadata": {
      "needs_background": "light"
     },
     "output_type": "display_data"
    },
    {
     "data": {
      "text/plain": [
       "<sympy.plotting.plot.Plot at 0x7f75ea900450>"
      ]
     },
     "execution_count": 139,
     "metadata": {},
     "output_type": "execute_result"
    }
   ],
   "source": [
    "expr = sym.tanh(x)\n",
    "expr = sym.diff(expr)\n",
    "plot(expr, (x, -10, 10))"
   ]
  },
  {
   "cell_type": "markdown",
   "metadata": {
    "ExecuteTime": {
     "end_time": "2020-06-11T15:38:04.540645Z",
     "start_time": "2020-06-11T15:38:04.535349Z"
    }
   },
   "source": [
    "#### Kerasの実装変更"
   ]
  },
  {
   "cell_type": "code",
   "execution_count": 151,
   "metadata": {
    "ExecuteTime": {
     "end_time": "2020-06-11T15:39:14.923391Z",
     "start_time": "2020-06-11T15:38:51.671207Z"
    }
   },
   "outputs": [
    {
     "name": "stdout",
     "output_type": "stream",
     "text": [
      "Epoch 1/10\n",
      "600/600 - 2s - loss: 0.7902 - accuracy: 0.8053\n",
      "Epoch 2/10\n",
      "600/600 - 2s - loss: 0.3924 - accuracy: 0.8924\n",
      "Epoch 3/10\n",
      "600/600 - 2s - loss: 0.3340 - accuracy: 0.9060\n",
      "Epoch 4/10\n",
      "600/600 - 2s - loss: 0.3047 - accuracy: 0.9136\n",
      "Epoch 5/10\n",
      "600/600 - 2s - loss: 0.2850 - accuracy: 0.9190\n",
      "Epoch 6/10\n",
      "600/600 - 2s - loss: 0.2694 - accuracy: 0.9231\n",
      "Epoch 7/10\n",
      "600/600 - 2s - loss: 0.2565 - accuracy: 0.9263\n",
      "Epoch 8/10\n",
      "600/600 - 2s - loss: 0.2447 - accuracy: 0.9301\n",
      "Epoch 9/10\n",
      "600/600 - 2s - loss: 0.2342 - accuracy: 0.9328\n",
      "Epoch 10/10\n",
      "600/600 - 2s - loss: 0.2243 - accuracy: 0.9361\n",
      "test_loss: 0.219, test_acc: 0.937\n"
     ]
    }
   ],
   "source": [
    "model = Sequential()\n",
    "model.add(Dense(200, activation='tanh'))\n",
    "model.add(Dense(200, activation='tanh'))\n",
    "model.add(Dense(200, activation='tanh'))\n",
    "model.add(Dense(10, activation='softmax'))\n",
    "\n",
    "model.compile(optimizer='sgd', loss='categorical_crossentropy',\n",
    "              metrics=['accuracy'])\n",
    "\n",
    "model.fit(x_train, t_train,\n",
    "          epochs=10, batch_size=100,\n",
    "          verbose=2)\n",
    "\n",
    "loss, acc = model.evaluate(x_test, t_test, verbose=0)\n",
    "print('test_loss: {:.3f}, test_acc: {:.3f}'.format(\n",
    "    loss,\n",
    "    acc\n",
    "))"
   ]
  },
  {
   "cell_type": "markdown",
   "metadata": {},
   "source": [
    "### ReLU\n",
    "- 微分がどこまで行っても１なので、勾配が消失しない"
   ]
  },
  {
   "cell_type": "code",
   "execution_count": 154,
   "metadata": {
    "ExecuteTime": {
     "end_time": "2020-06-11T15:42:50.898820Z",
     "start_time": "2020-06-11T15:42:50.687354Z"
    }
   },
   "outputs": [
    {
     "data": {
      "image/png": "[encoded data removed]",
      "text/plain": [
       "<Figure size 432x288 with 1 Axes>"
      ]
     },
     "metadata": {
      "needs_background": "light"
     },
     "output_type": "display_data"
    },
    {
     "data": {
      "text/plain": [
       "<sympy.plotting.plot.Plot at 0x7f75e4a86e90>"
      ]
     },
     "execution_count": 154,
     "metadata": {},
     "output_type": "execute_result"
    }
   ],
   "source": [
    "expr = sym.Max(x, 0)\n",
    "plot(expr, (x, -1, 1))"
   ]
  },
  {
   "cell_type": "code",
   "execution_count": 155,
   "metadata": {
    "ExecuteTime": {
     "end_time": "2020-06-11T15:43:06.960932Z",
     "start_time": "2020-06-11T15:43:06.705317Z"
    }
   },
   "outputs": [
    {
     "data": {
      "image/png": "[encoded data removed]",
      "text/plain": [
       "<Figure size 432x288 with 1 Axes>"
      ]
     },
     "metadata": {
      "needs_background": "light"
     },
     "output_type": "display_data"
    },
    {
     "data": {
      "text/plain": [
       "<sympy.plotting.plot.Plot at 0x7f75e4b3d590>"
      ]
     },
     "execution_count": 155,
     "metadata": {},
     "output_type": "execute_result"
    }
   ],
   "source": [
    "expr = sym.diff(expr)\n",
    "plot(expr, (x, -1, 1))"
   ]
  },
  {
   "cell_type": "markdown",
   "metadata": {},
   "source": [
    "### TFによる実装"
   ]
  },
  {
   "cell_type": "code",
   "execution_count": 5,
   "metadata": {
    "ExecuteTime": {
     "end_time": "2020-06-11T15:49:35.191521Z",
     "start_time": "2020-06-11T15:49:35.183018Z"
    }
   },
   "outputs": [],
   "source": [
    "import numpy as np\n",
    "from sklearn.utils import shuffle\n",
    "import tensorflow as tf\n",
    "from tensorflow.keras import datasets\n",
    "from tensorflow.keras.models import Model\n",
    "from tensorflow.keras.layers import Dense\n",
    "from tensorflow.keras import optimizers\n",
    "from tensorflow.keras import losses\n",
    "from tensorflow.keras import metrics\n",
    "\n",
    "np.random.seed(123)\n",
    "tf.random.set_seed(123)"
   ]
  },
  {
   "cell_type": "code",
   "execution_count": 6,
   "metadata": {
    "ExecuteTime": {
     "end_time": "2020-06-11T15:49:47.572219Z",
     "start_time": "2020-06-11T15:49:47.119025Z"
    }
   },
   "outputs": [],
   "source": [
    "mnist = datasets.mnist\n",
    "(x_train, t_train), (x_test, t_test) = mnist.load_data()\n",
    "\n",
    "x_train = (x_train.reshape(-1, 784) / 255).astype(np.float32)\n",
    "x_test = (x_test.reshape(-1, 784) / 255).astype(np.float32)\n",
    "t_train = np.eye(10)[t_train].astype(np.float32)\n",
    "t_test = np.eye(10)[t_test].astype(np.float32)"
   ]
  },
  {
   "cell_type": "code",
   "execution_count": 7,
   "metadata": {
    "ExecuteTime": {
     "end_time": "2020-06-11T15:49:54.252931Z",
     "start_time": "2020-06-11T15:49:54.242377Z"
    }
   },
   "outputs": [],
   "source": [
    "class DNN(Model):\n",
    "    def __init__(self, hidden_dim, output_dim):\n",
    "        super().__init__()\n",
    "        self.l1 = Dense(hidden_dim, activation='relu')\n",
    "        self.l2 = Dense(hidden_dim, activation='relu')\n",
    "        self.l3 = Dense(hidden_dim, activation='relu')\n",
    "        self.l4 = Dense(output_dim, activation='softmax')\n",
    "\n",
    "        self.ls = [self.l1, self.l2, self.l3, self.l4]\n",
    "\n",
    "    def call(self, x):\n",
    "        for layer in self.ls:\n",
    "            x = layer(x)\n",
    "\n",
    "        return x"
   ]
  },
  {
   "cell_type": "code",
   "execution_count": 8,
   "metadata": {
    "ExecuteTime": {
     "end_time": "2020-06-11T15:49:54.544120Z",
     "start_time": "2020-06-11T15:49:54.524087Z"
    }
   },
   "outputs": [],
   "source": [
    "model = DNN(200, 10)"
   ]
  },
  {
   "cell_type": "code",
   "execution_count": 9,
   "metadata": {
    "ExecuteTime": {
     "end_time": "2020-06-11T15:50:05.268342Z",
     "start_time": "2020-06-11T15:50:05.191819Z"
    }
   },
   "outputs": [],
   "source": [
    "criterion = losses.CategoricalCrossentropy()\n",
    "optimizer = optimizers.SGD(learning_rate=0.01)\n",
    "train_loss = metrics.Mean()\n",
    "train_acc = metrics.CategoricalAccuracy()\n",
    "\n",
    "def compute_loss(t, y):\n",
    "    return criterion(t, y)\n",
    "\n",
    "def train_step(x, t):\n",
    "    with tf.GradientTape() as tape:\n",
    "        preds = model(x)\n",
    "        loss = compute_loss(t, preds)\n",
    "    grads = tape.gradient(loss, model.trainable_variables)\n",
    "    optimizer.apply_gradients(zip(grads, model.trainable_variables))\n",
    "    train_loss(loss)\n",
    "    train_acc(t, preds)\n",
    "\n",
    "    return loss"
   ]
  },
  {
   "cell_type": "code",
   "execution_count": 10,
   "metadata": {
    "ExecuteTime": {
     "end_time": "2020-06-11T15:51:21.100988Z",
     "start_time": "2020-06-11T15:50:08.463602Z"
    }
   },
   "outputs": [
    {
     "name": "stdout",
     "output_type": "stream",
     "text": [
      "epoch: 1, loss: 1.08, acc: 0.735\n",
      "epoch: 2, loss: 0.737, acc: 0.812\n",
      "epoch: 3, loss: 0.599, acc: 0.843\n",
      "epoch: 4, loss: 0.521, acc: 0.862\n",
      "epoch: 5, loss: 0.469, acc: 0.874\n",
      "epoch: 6, loss: 0.431, acc: 0.884\n",
      "epoch: 7, loss: 0.402, acc: 0.891\n",
      "epoch: 8, loss: 0.377, acc: 0.897\n",
      "epoch: 9, loss: 0.357, acc: 0.903\n",
      "epoch: 10, loss: 0.34, acc: 0.907\n"
     ]
    }
   ],
   "source": [
    "epochs = 10\n",
    "batch_size = 100\n",
    "n_batches = x_train.shape[0] // batch_size\n",
    "\n",
    "for epoch in range(epochs):\n",
    "    x_, t_ = shuffle(x_train, t_train)\n",
    "\n",
    "    for batch in range(n_batches):\n",
    "        start = batch * batch_size\n",
    "        end = start + batch_size\n",
    "        train_step(x_[start:end], t_[start:end])\n",
    "\n",
    "    print('epoch: {}, loss: {:.3}, acc: {:.3f}'.format(\n",
    "        epoch+1,\n",
    "        train_loss.result(),\n",
    "        train_acc.result()\n",
    "    ))"
   ]
  },
  {
   "cell_type": "code",
   "execution_count": 11,
   "metadata": {
    "ExecuteTime": {
     "end_time": "2020-06-11T15:51:21.243015Z",
     "start_time": "2020-06-11T15:51:21.157243Z"
    }
   },
   "outputs": [
    {
     "name": "stdout",
     "output_type": "stream",
     "text": [
      "test_loss: 0.182, test_acc: 0.948\n"
     ]
    }
   ],
   "source": [
    "test_loss = metrics.Mean()\n",
    "test_acc = metrics.CategoricalAccuracy()\n",
    "\n",
    "def test_step(x, t):\n",
    "    preds = model(x)\n",
    "    loss = compute_loss(t, preds)\n",
    "    test_loss(loss)\n",
    "    test_acc(t, preds)\n",
    "\n",
    "    return loss\n",
    "\n",
    "test_step(x_test, t_test)\n",
    "\n",
    "print('test_loss: {:.3f}, test_acc: {:.3f}'.format(\n",
    "    test_loss.result(),\n",
    "    test_acc.result()\n",
    "))"
   ]
  },
  {
   "cell_type": "markdown",
   "metadata": {},
   "source": [
    "### Leaky ReRU\n",
    "- x<0でも学習が進むと期待\n",
    "- 実際は、ケースバイケース。。"
   ]
  },
  {
   "cell_type": "code",
   "execution_count": 14,
   "metadata": {
    "ExecuteTime": {
     "end_time": "2020-06-11T15:53:05.509131Z",
     "start_time": "2020-06-11T15:53:05.271367Z"
    }
   },
   "outputs": [
    {
     "name": "stderr",
     "output_type": "stream",
     "text": [
      "/opt/conda/lib/python3.7/site-packages/sympy/plotting/plot.py:1065: MatplotlibDeprecationWarning: \n",
      "The set_smart_bounds function was deprecated in Matplotlib 3.2 and will be removed two minor releases later.\n",
      "  self.ax[i].spines['left'].set_smart_bounds(True)\n",
      "/opt/conda/lib/python3.7/site-packages/sympy/plotting/plot.py:1066: MatplotlibDeprecationWarning: \n",
      "The set_smart_bounds function was deprecated in Matplotlib 3.2 and will be removed two minor releases later.\n",
      "  self.ax[i].spines['bottom'].set_smart_bounds(False)\n"
     ]
    },
    {
     "data": {
      "image/png": "[encoded data removed]",
      "text/plain": [
       "<Figure size 432x288 with 1 Axes>"
      ]
     },
     "metadata": {
      "needs_background": "light"
     },
     "output_type": "display_data"
    },
    {
     "data": {
      "text/plain": [
       "<sympy.plotting.plot.Plot at 0x7f09e6503a90>"
      ]
     },
     "execution_count": 14,
     "metadata": {},
     "output_type": "execute_result"
    }
   ],
   "source": [
    "expr = sym.Max(x, 0) + 0.1 * sym.Min(0,x)\n",
    "plot(expr, (x, -1, 1))"
   ]
  },
  {
   "cell_type": "code",
   "execution_count": 15,
   "metadata": {
    "ExecuteTime": {
     "end_time": "2020-06-11T15:53:20.701006Z",
     "start_time": "2020-06-11T15:53:20.346731Z"
    }
   },
   "outputs": [
    {
     "data": {
      "image/png": "[encoded data removed]",
      "text/plain": [
       "<Figure size 432x288 with 1 Axes>"
      ]
     },
     "metadata": {
      "needs_background": "light"
     },
     "output_type": "display_data"
    },
    {
     "data": {
      "text/plain": [
       "<sympy.plotting.plot.Plot at 0x7f09e66a2390>"
      ]
     },
     "execution_count": 15,
     "metadata": {},
     "output_type": "execute_result"
    }
   ],
   "source": [
    "expr = sym.diff(expr)\n",
    "plot(expr, (x, -1, 1))"
   ]
  },
  {
   "cell_type": "markdown",
   "metadata": {},
   "source": [
    "### Swish\n",
    "- ReLUの派生\n",
    "- いくつかの実験ではReLUよりもいいので、知っておいても損はない（By 著者）"
   ]
  },
  {
   "cell_type": "code",
   "execution_count": 16,
   "metadata": {
    "ExecuteTime": {
     "end_time": "2020-06-11T15:55:59.855452Z",
     "start_time": "2020-06-11T15:55:59.621095Z"
    }
   },
   "outputs": [
    {
     "name": "stderr",
     "output_type": "stream",
     "text": [
      "/opt/conda/lib/python3.7/site-packages/sympy/plotting/plot.py:1065: MatplotlibDeprecationWarning: \n",
      "The set_smart_bounds function was deprecated in Matplotlib 3.2 and will be removed two minor releases later.\n",
      "  self.ax[i].spines['left'].set_smart_bounds(True)\n",
      "/opt/conda/lib/python3.7/site-packages/sympy/plotting/plot.py:1066: MatplotlibDeprecationWarning: \n",
      "The set_smart_bounds function was deprecated in Matplotlib 3.2 and will be removed two minor releases later.\n",
      "  self.ax[i].spines['bottom'].set_smart_bounds(False)\n"
     ]
    },
    {
     "data": {
      "image/png": "[encoded data removed]",
      "text/plain": [
       "<Figure size 432x288 with 1 Axes>"
      ]
     },
     "metadata": {
      "needs_background": "light"
     },
     "output_type": "display_data"
    },
    {
     "data": {
      "text/plain": [
       "<sympy.plotting.plot.Plot at 0x7f09e5f44e10>"
      ]
     },
     "execution_count": 16,
     "metadata": {},
     "output_type": "execute_result"
    }
   ],
   "source": [
    "expr = x / (1 + sym.exp(-x))\n",
    "plot(expr, (x, -1, 1))"
   ]
  },
  {
   "cell_type": "code",
   "execution_count": 17,
   "metadata": {
    "ExecuteTime": {
     "end_time": "2020-06-11T15:56:11.505303Z",
     "start_time": "2020-06-11T15:56:11.163660Z"
    }
   },
   "outputs": [
    {
     "data": {
      "image/png": "[encoded data removed]",
      "text/plain": [
       "<Figure size 432x288 with 1 Axes>"
      ]
     },
     "metadata": {
      "needs_background": "light"
     },
     "output_type": "display_data"
    },
    {
     "data": {
      "text/plain": [
       "<sympy.plotting.plot.Plot at 0x7f09e8674d10>"
      ]
     },
     "execution_count": 17,
     "metadata": {},
     "output_type": "execute_result"
    }
   ],
   "source": [
    "expr = sym.diff(expr)\n",
    "plot(expr, (x, -1, 1))"
   ]
  },
  {
   "cell_type": "markdown",
   "metadata": {},
   "source": [
    "#### PyTorchの実装"
   ]
  },
  {
   "cell_type": "code",
   "execution_count": 18,
   "metadata": {
    "ExecuteTime": {
     "end_time": "2020-06-11T15:57:48.636688Z",
     "start_time": "2020-06-11T15:57:47.341238Z"
    }
   },
   "outputs": [],
   "source": [
    "import os\n",
    "import numpy as np\n",
    "from sklearn.metrics import accuracy_score\n",
    "import torch\n",
    "import torch.nn as nn\n",
    "import torch.optim as optimizers\n",
    "from torch.utils.data import DataLoader\n",
    "from torchvision import datasets\n",
    "import torchvision.transforms as transforms"
   ]
  },
  {
   "cell_type": "code",
   "execution_count": 19,
   "metadata": {
    "ExecuteTime": {
     "end_time": "2020-06-11T15:58:03.128313Z",
     "start_time": "2020-06-11T15:58:03.121722Z"
    }
   },
   "outputs": [],
   "source": [
    "class Swish(nn.Module):\n",
    "    def __init__(self, beta=1.):\n",
    "        super().__init__()\n",
    "        self.beta = beta\n",
    "\n",
    "    def forward(self, x):\n",
    "        return x * torch.sigmoid(self.beta * x)"
   ]
  },
  {
   "cell_type": "code",
   "execution_count": 20,
   "metadata": {
    "ExecuteTime": {
     "end_time": "2020-06-11T15:58:05.194509Z",
     "start_time": "2020-06-11T15:58:05.182025Z"
    }
   },
   "outputs": [],
   "source": [
    "class DNN(nn.Module):\n",
    "    def __init__(self, input_dim, hidden_dim, output_dim):\n",
    "        super().__init__()\n",
    "        self.l1 = nn.Linear(input_dim, hidden_dim)\n",
    "        self.a1 = Swish()\n",
    "        self.l2 = nn.Linear(hidden_dim, hidden_dim)\n",
    "        self.a2 = Swish()\n",
    "        self.l3 = nn.Linear(hidden_dim, hidden_dim)\n",
    "        self.a3 = Swish()\n",
    "        self.l4 = nn.Linear(hidden_dim, output_dim)\n",
    "\n",
    "        self.layers = [self.l1, self.a1,\n",
    "                       self.l2, self.a2,\n",
    "                       self.l3, self.a3,\n",
    "                       self.l4]\n",
    "\n",
    "    def forward(self, x):\n",
    "        for layer in self.layers:\n",
    "            x = layer(x)\n",
    "\n",
    "        return x"
   ]
  },
  {
   "cell_type": "code",
   "execution_count": 21,
   "metadata": {
    "ExecuteTime": {
     "end_time": "2020-06-11T15:58:18.114995Z",
     "start_time": "2020-06-11T15:58:18.104973Z"
    }
   },
   "outputs": [],
   "source": [
    "np.random.seed(123)\n",
    "torch.manual_seed(123)\n",
    "device = torch.device('cuda' if torch.cuda.is_available() else 'cpu')"
   ]
  },
  {
   "cell_type": "code",
   "execution_count": 22,
   "metadata": {
    "ExecuteTime": {
     "end_time": "2020-06-11T15:58:28.060683Z",
     "start_time": "2020-06-11T15:58:28.001090Z"
    }
   },
   "outputs": [],
   "source": [
    "root = os.path.join('~', '.torch', 'mnist')\n",
    "transform = transforms.Compose([transforms.ToTensor(),\n",
    "                                lambda x: x.view(-1)])\n",
    "mnist_train = datasets.MNIST(root=root,\n",
    "                             download=True,\n",
    "                             train=True,\n",
    "                             transform=transform)\n",
    "mnist_test = datasets.MNIST(root=root,\n",
    "                            download=True,\n",
    "                            train=False,\n",
    "                            transform=transform)\n",
    "\n",
    "train_dataloader = DataLoader(mnist_train,\n",
    "                              batch_size=100,\n",
    "                              shuffle=True)\n",
    "test_dataloader = DataLoader(mnist_test,\n",
    "                             batch_size=100,\n",
    "                             shuffle=False)"
   ]
  },
  {
   "cell_type": "code",
   "execution_count": 23,
   "metadata": {
    "ExecuteTime": {
     "end_time": "2020-06-11T15:58:35.891014Z",
     "start_time": "2020-06-11T15:58:35.876770Z"
    }
   },
   "outputs": [],
   "source": [
    "model = DNN(784, 200, 10).to(device)"
   ]
  },
  {
   "cell_type": "code",
   "execution_count": 24,
   "metadata": {
    "ExecuteTime": {
     "end_time": "2020-06-11T16:00:34.041737Z",
     "start_time": "2020-06-11T15:58:54.823971Z"
    }
   },
   "outputs": [
    {
     "name": "stdout",
     "output_type": "stream",
     "text": [
      "epoch: 1, loss: 2.3, acc: 0.125\n",
      "epoch: 2, loss: 2.29, acc: 0.174\n",
      "epoch: 3, loss: 2.27, acc: 0.278\n",
      "epoch: 4, loss: 2.15, acc: 0.287\n",
      "epoch: 5, loss: 1.68, acc: 0.519\n",
      "epoch: 6, loss: 0.817, acc: 0.758\n",
      "epoch: 7, loss: 0.56, acc: 0.840\n",
      "epoch: 8, loss: 0.454, acc: 0.872\n",
      "epoch: 9, loss: 0.405, acc: 0.885\n",
      "epoch: 10, loss: 0.376, acc: 0.894\n"
     ]
    }
   ],
   "source": [
    "criterion = nn.CrossEntropyLoss()\n",
    "optimizer = optimizers.SGD(model.parameters(), lr=0.01)\n",
    "\n",
    "def compute_loss(t, y):\n",
    "    return criterion(y, t)\n",
    "\n",
    "def train_step(x, t):\n",
    "    model.train()\n",
    "    preds = model(x)\n",
    "    loss = compute_loss(t, preds)\n",
    "    optimizer.zero_grad()\n",
    "    loss.backward()\n",
    "    optimizer.step()\n",
    "\n",
    "    return loss, preds\n",
    "\n",
    "epochs = 10\n",
    "\n",
    "for epoch in range(epochs):\n",
    "    train_loss = 0.\n",
    "    train_acc = 0.\n",
    "\n",
    "    for (x, t) in train_dataloader:\n",
    "        x, t = x.to(device), t.to(device)\n",
    "        loss, preds = train_step(x, t)\n",
    "        train_loss += loss.item()\n",
    "        train_acc += \\\n",
    "            accuracy_score(t.tolist(),\n",
    "                           preds.argmax(dim=-1).tolist())\n",
    "\n",
    "    train_loss /= len(train_dataloader)\n",
    "    train_acc /= len(train_dataloader)\n",
    "\n",
    "    print('epoch: {}, loss: {:.3}, acc: {:.3f}'.format(\n",
    "        epoch+1,\n",
    "        train_loss,\n",
    "        train_acc\n",
    "    ))"
   ]
  },
  {
   "cell_type": "code",
   "execution_count": 25,
   "metadata": {
    "ExecuteTime": {
     "end_time": "2020-06-11T16:00:35.252730Z",
     "start_time": "2020-06-11T16:00:34.162767Z"
    }
   },
   "outputs": [
    {
     "name": "stdout",
     "output_type": "stream",
     "text": [
      "test_loss: 0.351, test_acc: 0.900\n"
     ]
    }
   ],
   "source": [
    "def test_step(x, t):\n",
    "    model.eval()\n",
    "    preds = model(x)\n",
    "    loss = criterion(preds, t)\n",
    "\n",
    "    return loss, preds\n",
    "\n",
    "test_loss = 0.\n",
    "test_acc = 0.\n",
    "\n",
    "for (x, t) in test_dataloader:\n",
    "    x, t = x.to(device), t.to(device)\n",
    "    loss, preds = test_step(x, t)\n",
    "    test_loss += loss.item()\n",
    "    test_acc += \\\n",
    "        accuracy_score(t.tolist(),\n",
    "                       preds.argmax(dim=-1).tolist())\n",
    "\n",
    "test_loss /= len(test_dataloader)\n",
    "test_acc /= len(test_dataloader)\n",
    "print('test_loss: {:.3f}, test_acc: {:.3f}'.format(\n",
    "    test_loss,\n",
    "    test_acc\n",
    "))"
   ]
  },
  {
   "cell_type": "markdown",
   "metadata": {},
   "source": [
    "## ドロップアウトの導入\n",
    "\n",
    "- 一定の確率pでニューロンを除外する\n",
    "- 擬似的にアンサンブル学習を行っているようなもの\n",
    "- pは0.3や0.5が一般的\n",
    "- 計算としては、ニューロンのベクトルを一定確率で0にする（マスクベクトルをかける）"
   ]
  },
  {
   "cell_type": "markdown",
   "metadata": {},
   "source": [
    "### Keras\n",
    "- dropout層を加えるだけ"
   ]
  },
  {
   "cell_type": "code",
   "execution_count": 27,
   "metadata": {
    "ExecuteTime": {
     "end_time": "2020-06-11T16:04:36.256287Z",
     "start_time": "2020-06-11T16:04:36.250991Z"
    }
   },
   "outputs": [],
   "source": [
    "import numpy as np\n",
    "import tensorflow as tf\n",
    "from tensorflow.keras import datasets\n",
    "from tensorflow.keras.models import Sequential\n",
    "from tensorflow.keras.layers import Dense, Dropout"
   ]
  },
  {
   "cell_type": "code",
   "execution_count": 29,
   "metadata": {
    "ExecuteTime": {
     "end_time": "2020-06-11T16:04:59.709779Z",
     "start_time": "2020-06-11T16:04:59.097446Z"
    }
   },
   "outputs": [],
   "source": [
    "np.random.seed(123)\n",
    "tf.random.set_seed(123)\n",
    "\n",
    "mnist = datasets.mnist\n",
    "(x_train, t_train), (x_test, t_test) = mnist.load_data()\n",
    "\n",
    "x_train = (x_train.reshape(-1, 784) / 255).astype(np.float32)\n",
    "x_test = (x_test.reshape(-1, 784) / 255).astype(np.float32)\n",
    "t_train = np.eye(10)[t_train].astype(np.float32)\n",
    "t_test = np.eye(10)[t_test].astype(np.float32)"
   ]
  },
  {
   "cell_type": "code",
   "execution_count": 30,
   "metadata": {
    "ExecuteTime": {
     "end_time": "2020-06-11T16:05:00.896198Z",
     "start_time": "2020-06-11T16:05:00.878210Z"
    }
   },
   "outputs": [],
   "source": [
    "model = Sequential()\n",
    "model.add(Dense(200, activation='relu'))\n",
    "model.add(Dropout(0.5))\n",
    "model.add(Dense(200, activation='relu'))\n",
    "model.add(Dropout(0.5))\n",
    "model.add(Dense(200, activation='relu'))\n",
    "model.add(Dropout(0.5))\n",
    "model.add(Dense(10, activation='softmax'))"
   ]
  },
  {
   "cell_type": "code",
   "execution_count": 32,
   "metadata": {
    "ExecuteTime": {
     "end_time": "2020-06-11T16:05:41.769254Z",
     "start_time": "2020-06-11T16:05:16.865185Z"
    }
   },
   "outputs": [
    {
     "name": "stdout",
     "output_type": "stream",
     "text": [
      "Epoch 1/10\n",
      "600/600 - 2s - loss: 1.0833 - accuracy: 0.6340\n",
      "Epoch 2/10\n",
      "600/600 - 2s - loss: 0.8235 - accuracy: 0.7307\n",
      "Epoch 3/10\n",
      "600/600 - 2s - loss: 0.6868 - accuracy: 0.7824\n",
      "Epoch 4/10\n",
      "600/600 - 2s - loss: 0.6025 - accuracy: 0.8138\n",
      "Epoch 5/10\n",
      "600/600 - 2s - loss: 0.5452 - accuracy: 0.8345\n",
      "Epoch 6/10\n",
      "600/600 - 3s - loss: 0.5019 - accuracy: 0.8497\n",
      "Epoch 7/10\n",
      "600/600 - 3s - loss: 0.4680 - accuracy: 0.8610\n",
      "Epoch 8/10\n",
      "600/600 - 3s - loss: 0.4399 - accuracy: 0.8721\n",
      "Epoch 9/10\n",
      "600/600 - 2s - loss: 0.4181 - accuracy: 0.8793\n",
      "Epoch 10/10\n",
      "600/600 - 2s - loss: 0.3953 - accuracy: 0.8862\n"
     ]
    },
    {
     "data": {
      "text/plain": [
       "<tensorflow.python.keras.callbacks.History at 0x7f09a112d7d0>"
      ]
     },
     "execution_count": 32,
     "metadata": {},
     "output_type": "execute_result"
    }
   ],
   "source": [
    "model.compile(optimizer='sgd', loss='categorical_crossentropy',\n",
    "              metrics=['accuracy'])\n",
    "\n",
    "model.fit(x_train, t_train,\n",
    "          epochs=10, batch_size=100,\n",
    "          verbose=2)"
   ]
  },
  {
   "cell_type": "code",
   "execution_count": 33,
   "metadata": {
    "ExecuteTime": {
     "end_time": "2020-06-11T16:05:42.579649Z",
     "start_time": "2020-06-11T16:05:41.892729Z"
    }
   },
   "outputs": [
    {
     "name": "stdout",
     "output_type": "stream",
     "text": [
      "test_loss: 0.217, test_acc: 0.935\n"
     ]
    }
   ],
   "source": [
    "loss, acc = model.evaluate(x_test, t_test, verbose=0)\n",
    "print('test_loss: {:.3f}, test_acc: {:.3f}'.format(\n",
    "    loss,\n",
    "    acc\n",
    "))"
   ]
  },
  {
   "cell_type": "markdown",
   "metadata": {},
   "source": [
    "### TF\n",
    "- Dropout層を追加する"
   ]
  },
  {
   "cell_type": "code",
   "execution_count": 34,
   "metadata": {
    "ExecuteTime": {
     "end_time": "2020-06-11T16:06:10.303486Z",
     "start_time": "2020-06-11T16:06:10.296599Z"
    }
   },
   "outputs": [],
   "source": [
    "import numpy as np\n",
    "from sklearn.utils import shuffle\n",
    "import tensorflow as tf\n",
    "from tensorflow.keras import datasets\n",
    "from tensorflow.keras.models import Model\n",
    "from tensorflow.keras.layers import Dense, Dropout\n",
    "from tensorflow.keras import optimizers\n",
    "from tensorflow.keras import losses\n",
    "from tensorflow.keras import metrics"
   ]
  },
  {
   "cell_type": "code",
   "execution_count": 35,
   "metadata": {
    "ExecuteTime": {
     "end_time": "2020-06-11T16:06:19.401280Z",
     "start_time": "2020-06-11T16:06:19.389518Z"
    }
   },
   "outputs": [],
   "source": [
    "class DNN(Model):\n",
    "    def __init__(self, hidden_dim, output_dim):\n",
    "        super().__init__()\n",
    "        self.l1 = Dense(hidden_dim, activation='relu')\n",
    "        self.d1 = Dropout(0.5)\n",
    "        self.l2 = Dense(hidden_dim, activation='relu')\n",
    "        self.d2 = Dropout(0.5)\n",
    "        self.l3 = Dense(hidden_dim, activation='relu')\n",
    "        self.d3 = Dropout(0.5)\n",
    "        self.l4 = Dense(output_dim, activation='softmax')\n",
    "\n",
    "        self.ls = [self.l1, self.d1,\n",
    "                   self.l2, self.d2,\n",
    "                   self.l3, self.d3,\n",
    "                   self.l4]\n",
    "\n",
    "    def call(self, x):\n",
    "        for layer in self.ls:\n",
    "            x = layer(x)\n",
    "\n",
    "        return x"
   ]
  },
  {
   "cell_type": "code",
   "execution_count": null,
   "metadata": {
    "ExecuteTime": {
     "start_time": "2020-06-11T16:06:38.436Z"
    }
   },
   "outputs": [
    {
     "name": "stdout",
     "output_type": "stream",
     "text": [
      "epoch: 1, loss: 1.08, acc: 0.735\n",
      "epoch: 2, loss: 0.737, acc: 0.812\n",
      "epoch: 3, loss: 0.599, acc: 0.843\n",
      "epoch: 4, loss: 0.521, acc: 0.862\n",
      "epoch: 5, loss: 0.469, acc: 0.874\n",
      "epoch: 6, loss: 0.431, acc: 0.884\n",
      "epoch: 7, loss: 0.402, acc: 0.891\n",
      "epoch: 8, loss: 0.377, acc: 0.897\n",
      "epoch: 9, loss: 0.357, acc: 0.903\n",
      "epoch: 10, loss: 0.34, acc: 0.907\n",
      "epoch: 11, loss: 0.325, acc: 0.911\n",
      "epoch: 12, loss: 0.311, acc: 0.915\n",
      "epoch: 13, loss: 0.299, acc: 0.918\n",
      "epoch: 14, loss: 0.288, acc: 0.920\n"
     ]
    }
   ],
   "source": [
    "np.random.seed(123)\n",
    "tf.random.set_seed(123)\n",
    "\n",
    "'''\n",
    "1. データの準備\n",
    "'''\n",
    "mnist = datasets.mnist\n",
    "(x_train, t_train), (x_test, t_test) = mnist.load_data()\n",
    "\n",
    "x_train = (x_train.reshape(-1, 784) / 255).astype(np.float32)\n",
    "x_test = (x_test.reshape(-1, 784) / 255).astype(np.float32)\n",
    "t_train = np.eye(10)[t_train].astype(np.float32)\n",
    "t_test = np.eye(10)[t_test].astype(np.float32)\n",
    "\n",
    "'''\n",
    "2. モデルの構築\n",
    "'''\n",
    "model = DNN(200, 10)\n",
    "\n",
    "'''\n",
    "3. モデルの学習\n",
    "'''\n",
    "criterion = losses.CategoricalCrossentropy()\n",
    "optimizer = optimizers.SGD(learning_rate=0.01)\n",
    "train_loss = metrics.Mean()\n",
    "train_acc = metrics.CategoricalAccuracy()\n",
    "\n",
    "def compute_loss(t, y):\n",
    "    return criterion(t, y)\n",
    "\n",
    "def train_step(x, t):\n",
    "    with tf.GradientTape() as tape:\n",
    "        preds = model(x)\n",
    "        loss = compute_loss(t, preds)\n",
    "    grads = tape.gradient(loss, model.trainable_variables)\n",
    "    optimizer.apply_gradients(zip(grads, model.trainable_variables))\n",
    "    train_loss(loss)\n",
    "    train_acc(t, preds)\n",
    "\n",
    "    return loss\n",
    "\n",
    "epochs = 100\n",
    "batch_size = 100\n",
    "n_batches = x_train.shape[0] // batch_size\n",
    "\n",
    "for epoch in range(epochs):\n",
    "    x_, t_ = shuffle(x_train, t_train)\n",
    "\n",
    "    for batch in range(n_batches):\n",
    "        start = batch * batch_size\n",
    "        end = start + batch_size\n",
    "        train_step(x_[start:end], t_[start:end])\n",
    "\n",
    "    print('epoch: {}, loss: {:.3}, acc: {:.3f}'.format(\n",
    "        epoch+1,\n",
    "        train_loss.result(),\n",
    "        train_acc.result()\n",
    "    ))\n",
    "\n",
    "'''\n",
    "4. モデルの評価\n",
    "'''\n",
    "test_loss = metrics.Mean()\n",
    "test_acc = metrics.CategoricalAccuracy()\n",
    "\n",
    "def test_step(x, t):\n",
    "    preds = model(x)\n",
    "    loss = compute_loss(t, preds)\n",
    "    test_loss(loss)\n",
    "    test_acc(t, preds)\n",
    "\n",
    "    return loss\n",
    "\n",
    "test_step(x_test, t_test)\n",
    "\n",
    "print('test_loss: {:.3f}, test_acc: {:.3f}'.format(\n",
    "    test_loss.result(),\n",
    "    test_acc.result()\n",
    "))"
   ]
  },
  {
   "cell_type": "markdown",
   "metadata": {
    "ExecuteTime": {
     "start_time": "2020-06-11T16:07:04.565Z"
    }
   },
   "source": [
    "### Pytorch"
   ]
  },
  {
   "cell_type": "code",
   "execution_count": null,
   "metadata": {
    "ExecuteTime": {
     "start_time": "2020-06-11T16:07:10.013Z"
    }
   },
   "outputs": [],
   "source": [
    "import os\n",
    "import numpy as np\n",
    "from sklearn.metrics import accuracy_score\n",
    "import torch\n",
    "import torch.nn as nn\n",
    "import torch.optim as optimizers\n",
    "from torch.utils.data import DataLoader\n",
    "from torchvision import datasets\n",
    "import torchvision.transforms as transforms"
   ]
  },
  {
   "cell_type": "code",
   "execution_count": null,
   "metadata": {
    "ExecuteTime": {
     "start_time": "2020-06-11T16:07:18.984Z"
    }
   },
   "outputs": [],
   "source": [
    "class DNN(nn.Module):\n",
    "    def __init__(self, input_dim, hidden_dim, output_dim):\n",
    "        super().__init__()\n",
    "        self.l1 = nn.Linear(input_dim, hidden_dim)\n",
    "        self.a1 = nn.ReLU()\n",
    "        self.d1 = nn.Dropout(0.5)\n",
    "        self.l2 = nn.Linear(hidden_dim, hidden_dim)\n",
    "        self.a2 = nn.ReLU()\n",
    "        self.d2 = nn.Dropout(0.5)\n",
    "        self.l3 = nn.Linear(hidden_dim, hidden_dim)\n",
    "        self.a3 = nn.ReLU()\n",
    "        self.d3 = nn.Dropout(0.5)\n",
    "        self.l4 = nn.Linear(hidden_dim, output_dim)\n",
    "\n",
    "        self.layers = [self.l1, self.a1, self.d1,\n",
    "                       self.l2, self.a2, self.d2,\n",
    "                       self.l3, self.a3, self.d3,\n",
    "                       self.l4]\n",
    "\n",
    "    def forward(self, x):\n",
    "        for layer in self.layers:\n",
    "            x = layer(x)\n",
    "\n",
    "        return x"
   ]
  },
  {
   "cell_type": "code",
   "execution_count": null,
   "metadata": {
    "ExecuteTime": {
     "start_time": "2020-06-11T16:07:34.922Z"
    }
   },
   "outputs": [],
   "source": [
    "np.random.seed(123)\n",
    "torch.manual_seed(123)\n",
    "device = torch.device('cuda' if torch.cuda.is_available() else 'cpu')\n",
    "\n",
    "'''\n",
    "1. データの準備\n",
    "'''\n",
    "root = os.path.join('~', '.torch', 'mnist')\n",
    "transform = transforms.Compose([transforms.ToTensor(),\n",
    "                                lambda x: x.view(-1)])\n",
    "mnist_train = datasets.MNIST(root=root,\n",
    "                             download=True,\n",
    "                             train=True,\n",
    "                             transform=transform)\n",
    "mnist_test = datasets.MNIST(root=root,\n",
    "                            download=True,\n",
    "                            train=False,\n",
    "                            transform=transform)\n",
    "\n",
    "train_dataloader = DataLoader(mnist_train,\n",
    "                              batch_size=100,\n",
    "                              shuffle=True)\n",
    "test_dataloader = DataLoader(mnist_test,\n",
    "                             batch_size=100,\n",
    "                             shuffle=False)\n",
    "\n",
    "'''\n",
    "2. モデルの構築\n",
    "'''\n",
    "model = DNN(784, 200, 10).to(device)\n",
    "\n",
    "'''\n",
    "3. モデルの学習\n",
    "'''\n",
    "criterion = nn.CrossEntropyLoss()\n",
    "optimizer = optimizers.SGD(model.parameters(), lr=0.01)\n",
    "\n",
    "def compute_loss(t, y):\n",
    "    return criterion(y, t)\n",
    "\n",
    "def train_step(x, t):\n",
    "    model.train()\n",
    "    preds = model(x)\n",
    "    loss = compute_loss(t, preds)\n",
    "    optimizer.zero_grad()\n",
    "    loss.backward()\n",
    "    optimizer.step()\n",
    "\n",
    "    return loss, preds\n",
    "\n",
    "epochs = 100\n",
    "\n",
    "for epoch in range(epochs):\n",
    "    train_loss = 0.\n",
    "    train_acc = 0.\n",
    "\n",
    "    for (x, t) in train_dataloader:\n",
    "        x, t = x.to(device), t.to(device)\n",
    "        loss, preds = train_step(x, t)\n",
    "        train_loss += loss.item()\n",
    "        train_acc += \\\n",
    "            accuracy_score(t.tolist(),\n",
    "                           preds.argmax(dim=-1).tolist())\n",
    "\n",
    "    train_loss /= len(train_dataloader)\n",
    "    train_acc /= len(train_dataloader)\n",
    "\n",
    "    print('epoch: {}, loss: {:.3}, acc: {:.3f}'.format(\n",
    "        epoch+1,\n",
    "        train_loss,\n",
    "        train_acc\n",
    "    ))\n",
    "\n",
    "'''\n",
    "4. モデルの評価\n",
    "'''\n",
    "def test_step(x, t):\n",
    "    model.eval()\n",
    "    preds = model(x)\n",
    "    loss = criterion(preds, t)\n",
    "\n",
    "    return loss, preds\n",
    "\n",
    "test_loss = 0.\n",
    "test_acc = 0.\n",
    "\n",
    "for (x, t) in test_dataloader:\n",
    "    x, t = x.to(device), t.to(device)\n",
    "    loss, preds = test_step(x, t)\n",
    "    test_loss += loss.item()\n",
    "    test_acc += \\\n",
    "        accuracy_score(t.tolist(),\n",
    "                       preds.argmax(dim=-1).tolist())\n",
    "\n",
    "test_loss /= len(test_dataloader)\n",
    "test_acc /= len(test_dataloader)\n",
    "print('test_loss: {:.3f}, test_acc: {:.3f}'.format(\n",
    "    test_loss,\n",
    "    test_acc\n",
    "))"
   ]
  },
  {
   "cell_type": "code",
   "execution_count": null,
   "metadata": {},
   "outputs": [],
   "source": []
  }
 ],
 "metadata": {
  "kernelspec": {
   "display_name": "Python 3",
   "language": "python",
   "name": "python3"
  },
  "language_info": {
   "codemirror_mode": {
    "name": "ipython",
    "version": 3
   },
   "file_extension": ".py",
   "mimetype": "text/x-python",
   "name": "python",
   "nbconvert_exporter": "python",
   "pygments_lexer": "ipython3",
   "version": "3.7.6"
  },
  "toc": {
   "base_numbering": 1,
   "nav_menu": {},
   "number_sections": true,
   "sideBar": true,
   "skip_h1_title": false,
   "title_cell": "Table of Contents",
   "title_sidebar": "Contents",
   "toc_cell": false,
   "toc_position": {},
   "toc_section_display": true,
   "toc_window_display": false
  },
  "varInspector": {
   "cols": {
    "lenName": 16,
    "lenType": 16,
    "lenVar": 40
   },
   "kernels_config": {
    "python": {
     "delete_cmd_postfix": "",
     "delete_cmd_prefix": "del ",
     "library": "var_list.py",
     "varRefreshCmd": "print(var_dic_list())"
    },
    "r": {
     "delete_cmd_postfix": ") ",
     "delete_cmd_prefix": "rm(",
     "library": "var_list.r",
     "varRefreshCmd": "cat(var_dic_list()) "
    }
   },
   "types_to_exclude": [
    "module",
    "function",
    "builtin_function_or_method",
    "instance",
    "_Feature"
   ],
   "window_display": false
  }
 },
 "nbformat": 4,
 "nbformat_minor": 4
}
